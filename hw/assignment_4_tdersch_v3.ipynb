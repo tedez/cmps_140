{
 "cells": [
  {
   "cell_type": "markdown",
   "metadata": {
    "colab_type": "text",
    "id": "9xcm84_q0LtA"
   },
   "source": [
    "# CMPS 140 Winter 2019 Assignment 4 Programming Component"
   ]
  },
  {
   "cell_type": "markdown",
   "metadata": {
    "colab_type": "text",
    "id": "xpsQesjB0LtB"
   },
   "source": [
    "## Problem 1\n",
    "\n",
    "Given the dataset below, implement the logistic regression algorithm, optimizing the parameters using gradient descent and squared error as the loss function. See 18.6.4 from the textbook for details."
   ]
  },
  {
   "cell_type": "code",
   "execution_count": 2,
   "metadata": {
    "colab": {},
    "colab_type": "code",
    "id": "_clk7S-70LtC"
   },
   "outputs": [
    {
     "name": "stdout",
     "output_type": "stream",
     "text": [
      "(100, 2) (100,)\n"
     ]
    },
    {
     "data": {
      "text/plain": [
       "<Figure size 640x480 with 1 Axes>"
      ]
     },
     "metadata": {},
     "output_type": "display_data"
    }
   ],
   "source": [
    "import numpy as np\n",
    "import matplotlib.pyplot as plt\n",
    "from sklearn.datasets.samples_generator import make_moons\n",
    "\n",
    "np.random.seed(33)\n",
    "data, labels = make_moons(n_samples=100, noise=0.1)\n",
    "colors = ['r' if y else 'b' for y in labels]\n",
    "print(data.shape, labels.shape)\n",
    "plt.scatter(data[:,0], data[:,1], c=colors)\n",
    "plt.show()"
   ]
  },
  {
   "cell_type": "code",
   "execution_count": 15,
   "metadata": {
    "colab": {},
    "colab_type": "code",
    "id": "M6euOf-_0LtF"
   },
   "outputs": [
    {
     "name": "stdout",
     "output_type": "stream",
     "text": [
      "Intial Accuracy:62.0%\n",
      "Step 1 Accuracy:80.0%, Loss: 28.320552327305432\n",
      "Step 2 Accuracy:85.0%, Loss: 13.26693770812511\n",
      "Step 3 Accuracy:84.0%, Loss: 10.340196115686899\n",
      "Step 4 Accuracy:85.0%, Loss: 10.01826684053107\n",
      "Step 5 Accuracy:85.0%, Loss: 9.885924935162974\n",
      "Step 6 Accuracy:85.0%, Loss: 9.81517222105634\n",
      "Step 7 Accuracy:85.0%, Loss: 9.774198807500989\n",
      "Step 8 Accuracy:85.0%, Loss: 9.74819750955173\n",
      "Step 9 Accuracy:85.0%, Loss: 9.730809250822025\n",
      "Step 10 Accuracy:85.0%, Loss: 9.7187614238954\n",
      "Step 11 Accuracy:84.0%, Loss: 9.710200859869655\n",
      "Step 12 Accuracy:84.0%, Loss: 9.703999980220384\n",
      "Step 13 Accuracy:84.0%, Loss: 9.699438988162564\n",
      "Step 14 Accuracy:84.0%, Loss: 9.696042060636051\n",
      "Step 15 Accuracy:84.0%, Loss: 9.693485849062244\n",
      "Step 16 Accuracy:84.0%, Loss: 9.691545594374732\n",
      "Step 17 Accuracy:84.0%, Loss: 9.690062088901257\n",
      "Step 18 Accuracy:84.0%, Loss: 9.688920744431504\n",
      "Step 19 Accuracy:84.0%, Loss: 9.688037958216425\n",
      "Step 20 Accuracy:84.0%, Loss: 9.687352018380452\n",
      "Step 21 Accuracy:84.0%, Loss: 9.686816910773056\n",
      "Step 22 Accuracy:84.0%, Loss: 9.686398024803628\n",
      "Step 23 Accuracy:84.0%, Loss: 9.686069128398506\n",
      "Step 24 Accuracy:84.0%, Loss: 9.685810206968819\n",
      "Step 25 Accuracy:84.0%, Loss: 9.685605900358636\n",
      "Step 26 Accuracy:85.0%, Loss: 9.685444359789134\n",
      "Step 27 Accuracy:85.0%, Loss: 9.685316403707816\n",
      "Step 28 Accuracy:85.0%, Loss: 9.685214888901715\n",
      "Step 29 Accuracy:85.0%, Loss: 9.685134238303093\n",
      "Step 30 Accuracy:85.0%, Loss: 9.685070083957212\n",
      "Step 31 Accuracy:85.0%, Loss: 9.685018995368775\n",
      "Step 32 Accuracy:85.0%, Loss: 9.68497827164609\n",
      "Step 33 Accuracy:85.0%, Loss: 9.684945781657072\n",
      "Step 34 Accuracy:85.0%, Loss: 9.68491984055049\n",
      "Step 35 Accuracy:85.0%, Loss: 9.684899113981578\n",
      "Step 36 Accuracy:85.0%, Loss: 9.684882543555434\n",
      "Step 37 Accuracy:85.0%, Loss: 9.68486928859765\n",
      "Step 38 Accuracy:85.0%, Loss: 9.684858680543131\n",
      "Step 39 Accuracy:85.0%, Loss: 9.684850187114638\n",
      "Step 40 Accuracy:85.0%, Loss: 9.684843384123214\n",
      "Step 41 Accuracy:85.0%, Loss: 9.684837933221655\n",
      "Step 42 Accuracy:85.0%, Loss: 9.684833564320849\n",
      "Step 43 Accuracy:85.0%, Loss: 9.684830061667887\n",
      "Step 44 Accuracy:85.0%, Loss: 9.684827252806434\n",
      "Step 45 Accuracy:85.0%, Loss: 9.6848249998106\n",
      "Step 46 Accuracy:85.0%, Loss: 9.684823192315521\n",
      "Step 47 Accuracy:85.0%, Loss: 9.684821741970204\n",
      "Step 48 Accuracy:85.0%, Loss: 9.684820578018055\n",
      "Step 49 Accuracy:85.0%, Loss: 9.684819643772617\n",
      "Step 50 Accuracy:85.0%, Loss: 9.684818893805053\n",
      "Step 51 Accuracy:85.0%, Loss: 9.684818291697875\n",
      "Step 52 Accuracy:85.0%, Loss: 9.68481780824989\n",
      "Step 53 Accuracy:85.0%, Loss: 9.684817420040842\n",
      "Step 54 Accuracy:85.0%, Loss: 9.684817108283013\n",
      "Step 55 Accuracy:85.0%, Loss: 9.684816857902145\n",
      "Step 56 Accuracy:85.0%, Loss: 9.684816656801415\n",
      "Step 57 Accuracy:85.0%, Loss: 9.684816495271896\n",
      "Step 58 Accuracy:85.0%, Loss: 9.684816365520149\n",
      "Step 59 Accuracy:85.0%, Loss: 9.684816261289562\n"
     ]
    },
    {
     "data": {
      "text/plain": [
       "<matplotlib.collections.PathCollection at 0x7febcc44db38>"
      ]
     },
     "execution_count": 15,
     "metadata": {},
     "output_type": "execute_result"
    },
    {
     "data": {
      "image/png": "[encoded data removed]",
      "text/plain": [
       "<Figure size 432x288 with 1 Axes>"
      ]
     },
     "metadata": {
      "needs_background": "light"
     },
     "output_type": "display_data"
    }
   ],
   "source": [
    "import math\n",
    "from sklearn.metrics import *\n",
    "\n",
    "def logistic(x, w):\n",
    "    length = len(x)\n",
    "    retval = []\n",
    "    for i in range(0, length):\n",
    "        retval.append(sigmoid(np.dot(x[i], np.transpose(w))))\n",
    "    return retval\n",
    "    \n",
    "def loss_func(y, h):\n",
    "    y = np.array(y)\n",
    "    h = np.array(h)\n",
    "    return np.sum((y - h)**2)\n",
    "\n",
    "def loss_func_derivative(y, h, x):\n",
    "#     length = len(y)\n",
    "    y = np.array(y)\n",
    "    h = np.array(h)\n",
    "    x = np.array(x)\n",
    "    return np.dot((y - h) * (h * (1 - h)), x)\n",
    "    \n",
    "def accuracy(y, h):\n",
    "    return 100 * np.sum(y==h)/len(y)\n",
    "\n",
    "def logistic_regression(x, y, loss_func_derivative, learning_rate, num_steps=100):\n",
    "    w = np.ones(3)\n",
    "    x = np.pad(x, [[0,0], [1,0]], mode='constant')\n",
    "\n",
    "    print('Intial Accuracy:{}%'.format(accuracy(y, np.round(logistic(x, w)))))\n",
    "    prev_loss = 0\n",
    "    for step in range(num_steps):\n",
    "        h = logistic(x, w)\n",
    "        loss = loss_func(y, h)\n",
    "        \n",
    "        if math.fabs(loss - prev_loss) < 0.0000001:\n",
    "            return w\n",
    "         \n",
    "        w += learning_rate * loss_func_derivative(y, h, x)\n",
    "        \n",
    "        print('Step {} Accuracy:{}%, Loss: {}'.format(step+1, accuracy(y, np.round(logistic(x, w))), loss))\n",
    "        prev_loss = loss\n",
    "    return w\n",
    "    \n",
    "learning_rate = 0.5\n",
    "ws = logistic_regression(data, labels, loss_func_derivative, learning_rate)\n",
    "yh = np.round(logistic(np.pad(data, [[0,0], [1,0]], mode='constant'), ws))\n",
    "colors = ['g' if _yh==_y else 'r' for _yh, _y in zip(yh, labels.astype(np.int))]\n",
    "plt.title('Classification Results')\n",
    "plt.scatter(data[:,0], data[:,1], c=colors)"
   ]
  },
  {
   "cell_type": "code",
   "execution_count": 16,
   "metadata": {
    "colab": {},
    "colab_type": "code",
    "id": "jjypzDIJ0LtH"
   },
   "outputs": [
    {
     "name": "stdout",
     "output_type": "stream",
     "text": [
      "ws [ 1.          1.15719784 -3.45275268]\n",
      "correct_w [ 1.          1.15719784 -3.45275268]\n"
     ]
    }
   ],
   "source": [
    "correct_w = np.array([ 1.        ,  1.15719784, -3.45275268])\n",
    "print(\"ws\", ws)\n",
    "print(\"correct_w\", correct_w)\n",
    "np.testing.assert_allclose(ws, correct_w, rtol=1e-5)"
   ]
  },
  {
   "cell_type": "markdown",
   "metadata": {
    "colab_type": "text",
    "id": "TOgqOtE40LtK"
   },
   "source": [
    "## Problem 2\n",
    "\n",
    "Implement a single perceptron below.\n",
    "\n",
    "You can assume that both **x** and **w** will be iterables and b will be a single value. All of them will not be *None*."
   ]
  },
  {
   "cell_type": "code",
   "execution_count": 189,
   "metadata": {
    "colab": {},
    "colab_type": "code",
    "id": "9IX6ZUKk0LtK"
   },
   "outputs": [],
   "source": [
    "def perceptron(x, w, b):\n",
    "    length = len(x)\n",
    "    sum = 0\n",
    "    for i in range(0, length):\n",
    "        sum += x[i] *w[i] + b\n",
    "    \n",
    "    if sum >= 0:\n",
    "        return 1\n",
    "    else:\n",
    "        return 0\n",
    "    "
   ]
  },
  {
   "cell_type": "code",
   "execution_count": 190,
   "metadata": {
    "colab": {},
    "colab_type": "code",
    "id": "A2IjkVtg0LtN"
   },
   "outputs": [
    {
     "name": "stdout",
     "output_type": "stream",
     "text": [
      "y 1\n",
      "y 0\n"
     ]
    }
   ],
   "source": [
    "x = [1, 2]\n",
    "w = [1, 1]\n",
    "b = 0\n",
    "y = perceptron(x, w, b)\n",
    "print(\"y\", y)\n",
    "assert y == 1\n",
    "\n",
    "b = -5\n",
    "y = perceptron(x, w, b)\n",
    "print(\"y\", y)\n",
    "assert y == 0"
   ]
  },
  {
   "cell_type": "code",
   "execution_count": null,
   "metadata": {},
   "outputs": [],
   "source": []
  }
 ],
 "metadata": {
  "colab": {
   "collapsed_sections": [],
   "name": "Assignment4v2_updated.ipynb",
   "provenance": [],
   "version": "0.3.2"
  },
  "kernelspec": {
   "display_name": "Python 2",
   "language": "python",
   "name": "python2"
  },
  "language_info": {
   "codemirror_mode": {
    "name": "ipython",
    "version": 3
   },
   "file_extension": ".py",
   "mimetype": "text/x-python",
   "name": "python",
   "nbconvert_exporter": "python",
   "pygments_lexer": "ipython3",
   "version": "3.6.7"
  }
 },
 "nbformat": 4,
 "nbformat_minor": 1
}
