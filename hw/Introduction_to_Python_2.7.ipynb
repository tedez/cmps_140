{
 "cells": [
  {
   "cell_type": "markdown",
   "metadata": {
    "colab_type": "text",
    "id": "1Ycy34VcX4lu"
   },
   "source": [
    "# Introduction to Python\n",
    "## Luca de Alfaro\n",
    "Copyright Luca de Alfaro, 2018.  BSD License."
   ]
  },
  {
   "cell_type": "markdown",
   "metadata": {
    "colab_type": "text",
    "id": "X5VBxq824B5P"
   },
   "source": [
    "**Do you know** that you can make a copy of this notebook and play with it?  Just click on \"File > Save as a copy in Drive\" and then go play with your own copy!  Learn notebooks, it's worth it! "
   ]
  },
  {
   "cell_type": "markdown",
   "metadata": {
    "colab_type": "text",
    "id": "0ZEC4V3pjalH"
   },
   "source": [
    "## Integers, floats, strings, booleans, and ... None!"
   ]
  },
  {
   "cell_type": "code",
   "execution_count": 0,
   "metadata": {
    "colab": {},
    "colab_type": "code",
    "id": "9DzUH9EWXmvR"
   },
   "outputs": [],
   "source": [
    "# In python there are numbers, which can be integer or float. \n",
    "x = 1 # int\n",
    "y = 1. # float"
   ]
  },
  {
   "cell_type": "code",
   "execution_count": 0,
   "metadata": {
    "colab": {
     "base_uri": "https://localhost:8080/",
     "height": 35
    },
    "colab_type": "code",
    "executionInfo": {
     "elapsed": 317,
     "status": "ok",
     "timestamp": 1538775496223,
     "user": {
      "displayName": "Luca de Alfaro",
      "photoUrl": "",
      "userId": "08154392717664554862"
     },
     "user_tz": 420
    },
    "id": "1ypAUKH8YfAN",
    "outputId": "321397c7-3345-4cb5-aabf-2b1ca63a3035"
   },
   "outputs": [
    {
     "data": {
      "text/plain": [
       "0"
      ]
     },
     "execution_count": 2,
     "metadata": {
      "tags": []
     },
     "output_type": "execute_result"
    }
   ],
   "source": [
    "# In Python 2.7, division between integers generates an integer.\n",
    "x / 2"
   ]
  },
  {
   "cell_type": "code",
   "execution_count": 0,
   "metadata": {
    "colab": {
     "base_uri": "https://localhost:8080/",
     "height": 35
    },
    "colab_type": "code",
    "executionInfo": {
     "elapsed": 292,
     "status": "ok",
     "timestamp": 1538775509101,
     "user": {
      "displayName": "Luca de Alfaro",
      "photoUrl": "",
      "userId": "08154392717664554862"
     },
     "user_tz": 420
    },
    "id": "57jLfJpzYqH5",
    "outputId": "e54d61cb-6bea-4bc2-a72b-624093f42aed"
   },
   "outputs": [
    {
     "data": {
      "text/plain": [
       "0.5"
      ]
     },
     "execution_count": 3,
     "metadata": {
      "tags": []
     },
     "output_type": "execute_result"
    }
   ],
   "source": [
    "# While if at least an argument is float, you get a float. \n",
    "y / 2"
   ]
  },
  {
   "cell_type": "code",
   "execution_count": 0,
   "metadata": {
    "colab": {},
    "colab_type": "code",
    "id": "1jV22BHoYt8F"
   },
   "outputs": [],
   "source": [
    "# There are also strings in Python.  They can be delimited with either \" or '.\n",
    "s = 'A string'\n",
    "t = \"It's nice to be able to choose the delimiters\""
   ]
  },
  {
   "cell_type": "code",
   "execution_count": 0,
   "metadata": {
    "colab": {
     "base_uri": "https://localhost:8080/",
     "height": 35
    },
    "colab_type": "code",
    "executionInfo": {
     "elapsed": 508,
     "status": "ok",
     "timestamp": 1538775564781,
     "user": {
      "displayName": "Luca de Alfaro",
      "photoUrl": "",
      "userId": "08154392717664554862"
     },
     "user_tz": 420
    },
    "id": "V2iquQzZjGAL",
    "outputId": "096231e6-a6e0-4327-941d-9eb976cf3715"
   },
   "outputs": [
    {
     "name": "stdout",
     "output_type": "stream",
     "text": [
      "False\n"
     ]
    }
   ],
   "source": [
    "# The other basic data type is booleans.  They are 'True' and 'False'.\n",
    "b = True\n",
    "print not b"
   ]
  },
  {
   "cell_type": "code",
   "execution_count": 0,
   "metadata": {
    "colab": {
     "base_uri": "https://localhost:8080/",
     "height": 52
    },
    "colab_type": "code",
    "executionInfo": {
     "elapsed": 350,
     "status": "ok",
     "timestamp": 1538775580517,
     "user": {
      "displayName": "Luca de Alfaro",
      "photoUrl": "",
      "userId": "08154392717664554862"
     },
     "user_tz": 420
    },
    "id": "tYki8KdKjNUc",
    "outputId": "42a2eb52-dbc4-417e-f49f-751f7187a874"
   },
   "outputs": [
    {
     "name": "stdout",
     "output_type": "stream",
     "text": [
      "True\n",
      "False\n"
     ]
    }
   ],
   "source": [
    "# Relational operators, obviously enough, have boolean result:\n",
    "print 4 < 8\n",
    "print 4 == 8"
   ]
  },
  {
   "cell_type": "code",
   "execution_count": 0,
   "metadata": {
    "colab": {
     "base_uri": "https://localhost:8080/",
     "height": 35
    },
    "colab_type": "code",
    "executionInfo": {
     "elapsed": 329,
     "status": "ok",
     "timestamp": 1538775591149,
     "user": {
      "displayName": "Luca de Alfaro",
      "photoUrl": "",
      "userId": "08154392717664554862"
     },
     "user_tz": 420
    },
    "id": "fJNJLuAmjoZ0",
    "outputId": "7b24c0e2-f5e0-4760-d4ca-09b5c514a368"
   },
   "outputs": [
    {
     "name": "stdout",
     "output_type": "stream",
     "text": [
      "None\n"
     ]
    }
   ],
   "source": [
    "# There's a special value in Python that means, no value.  It's called None. \n",
    "c = None\n",
    "print c"
   ]
  },
  {
   "cell_type": "code",
   "execution_count": 0,
   "metadata": {
    "colab": {},
    "colab_type": "code",
    "id": "Zy234ismjxGI"
   },
   "outputs": [],
   "source": [
    "# I know it seems funny to have a value for denoting no value, but it turns out to be\n",
    "# incredibly useful.  In fact, many old languages suffer by not being able to express\n",
    "# the fact that something is just not there (think of C). "
   ]
  },
  {
   "cell_type": "code",
   "execution_count": 0,
   "metadata": {
    "colab": {
     "base_uri": "https://localhost:8080/",
     "height": 52
    },
    "colab_type": "code",
    "executionInfo": {
     "elapsed": 288,
     "status": "ok",
     "timestamp": 1538775637570,
     "user": {
      "displayName": "Luca de Alfaro",
      "photoUrl": "",
      "userId": "08154392717664554862"
     },
     "user_tz": 420
    },
    "id": "M5UsSCiR-G1r",
    "outputId": "aee35d74-60c5-4a75-9e72-be69e489da31"
   },
   "outputs": [
    {
     "name": "stdout",
     "output_type": "stream",
     "text": [
      "4\n",
      "12\n"
     ]
    }
   ],
   "source": [
    "# The operators +, -, *, /, can also be used with the following shorthand:\n",
    "x = 2\n",
    "x = x + 1\n",
    "x += 1 # Same as above\n",
    "print x\n",
    "x *= 3 # Do I need to explain this? \n",
    "print x"
   ]
  },
  {
   "cell_type": "markdown",
   "metadata": {
    "colab_type": "text",
    "id": "TA461_UgZxs7"
   },
   "source": [
    "## Lists, tuples, and dictionaries"
   ]
  },
  {
   "cell_type": "markdown",
   "metadata": {
    "colab_type": "text",
    "id": "FrOuZWcdbkyh"
   },
   "source": [
    "### Lists"
   ]
  },
  {
   "cell_type": "code",
   "execution_count": 0,
   "metadata": {
    "colab": {},
    "colab_type": "code",
    "id": "_DZtN4diZ3CG"
   },
   "outputs": [],
   "source": [
    "# Lists are one of the basic data types in Python.\n",
    "l = [1, 2, 3]"
   ]
  },
  {
   "cell_type": "code",
   "execution_count": 0,
   "metadata": {
    "colab": {
     "base_uri": "https://localhost:8080/",
     "height": 52
    },
    "colab_type": "code",
    "executionInfo": {
     "elapsed": 382,
     "status": "ok",
     "timestamp": 1538775672808,
     "user": {
      "displayName": "Luca de Alfaro",
      "photoUrl": "",
      "userId": "08154392717664554862"
     },
     "user_tz": 420
    },
    "id": "nIIfkql1aShY",
    "outputId": "a86543b1-f898-4e00-f590-6780fc0fae4b"
   },
   "outputs": [
    {
     "name": "stdout",
     "output_type": "stream",
     "text": [
      "cat\n",
      "dog\n"
     ]
    }
   ],
   "source": [
    "l2 = ['cat', 'dog', 'bird']\n",
    "print l2[0]\n",
    "print l2[1]"
   ]
  },
  {
   "cell_type": "code",
   "execution_count": 0,
   "metadata": {
    "colab": {
     "base_uri": "https://localhost:8080/",
     "height": 35
    },
    "colab_type": "code",
    "executionInfo": {
     "elapsed": 586,
     "status": "ok",
     "timestamp": 1538775746117,
     "user": {
      "displayName": "Luca de Alfaro",
      "photoUrl": "",
      "userId": "08154392717664554862"
     },
     "user_tz": 420
    },
    "id": "nQdmPel-abwi",
    "outputId": "f5193e4e-d5e4-4641-a9df-bfd17a91634b"
   },
   "outputs": [
    {
     "name": "stdout",
     "output_type": "stream",
     "text": [
      "[0, 1, 2, 3, 4, 5, 6, 7, 8, 9, 10, 11]\n"
     ]
    }
   ],
   "source": [
    "# You can also produce a list of all integers up to some number;\n",
    "# this is very common and useful.\n",
    "print range(12)"
   ]
  },
  {
   "cell_type": "code",
   "execution_count": 0,
   "metadata": {
    "colab": {
     "base_uri": "https://localhost:8080/",
     "height": 35
    },
    "colab_type": "code",
    "executionInfo": {
     "elapsed": 305,
     "status": "ok",
     "timestamp": 1538775825306,
     "user": {
      "displayName": "Luca de Alfaro",
      "photoUrl": "",
      "userId": "08154392717664554862"
     },
     "user_tz": 420
    },
    "id": "Tjb1t38Maxg6",
    "outputId": "baa7c5bc-91f4-4858-8847-4587b4775982"
   },
   "outputs": [
    {
     "name": "stdout",
     "output_type": "stream",
     "text": [
      "['cat', 'dog', 'bird']\n"
     ]
    }
   ],
   "source": [
    "# You can 'slice' (yeah, that's a technical term) the beginnign and end of a list:\n",
    "l = ['cat', 'dog', 'bird', 'fish', 'ant', 'fly']\n",
    "print l[:3] # Till element 3, excluded"
   ]
  },
  {
   "cell_type": "code",
   "execution_count": 0,
   "metadata": {
    "colab": {
     "base_uri": "https://localhost:8080/",
     "height": 35
    },
    "colab_type": "code",
    "executionInfo": {
     "elapsed": 630,
     "status": "ok",
     "timestamp": 1538775828089,
     "user": {
      "displayName": "Luca de Alfaro",
      "photoUrl": "",
      "userId": "08154392717664554862"
     },
     "user_tz": 420
    },
    "id": "9NM7TvV8bH1E",
    "outputId": "9922443e-8b82-48ec-b2ce-1036d4bb0511"
   },
   "outputs": [
    {
     "name": "stdout",
     "output_type": "stream",
     "text": [
      "['fish', 'ant', 'fly']\n"
     ]
    }
   ],
   "source": [
    "print l[3:] # From element 3"
   ]
  },
  {
   "cell_type": "code",
   "execution_count": 0,
   "metadata": {
    "colab": {
     "base_uri": "https://localhost:8080/",
     "height": 35
    },
    "colab_type": "code",
    "executionInfo": {
     "elapsed": 395,
     "status": "ok",
     "timestamp": 1538775829729,
     "user": {
      "displayName": "Luca de Alfaro",
      "photoUrl": "",
      "userId": "08154392717664554862"
     },
     "user_tz": 420
    },
    "id": "J34q3HkQbL8O",
    "outputId": "148693f7-485e-411c-bafe-07235f7aa519"
   },
   "outputs": [
    {
     "name": "stdout",
     "output_type": "stream",
     "text": [
      "['dog', 'bird']\n"
     ]
    }
   ],
   "source": [
    "print l[1:3] # From element 1 included, to element 3 excluded"
   ]
  },
  {
   "cell_type": "code",
   "execution_count": 0,
   "metadata": {
    "colab": {
     "base_uri": "https://localhost:8080/",
     "height": 35
    },
    "colab_type": "code",
    "executionInfo": {
     "elapsed": 377,
     "status": "ok",
     "timestamp": 1538775848138,
     "user": {
      "displayName": "Luca de Alfaro",
      "photoUrl": "",
      "userId": "08154392717664554862"
     },
     "user_tz": 420
    },
    "id": "NWjv2RR6bR7D",
    "outputId": "418eeb39-6e95-4945-8c89-6f35af5808e6"
   },
   "outputs": [
    {
     "name": "stdout",
     "output_type": "stream",
     "text": [
      "fly\n"
     ]
    }
   ],
   "source": [
    "# If you use negative numbers, they count backwards from the end\n",
    "# of the list.  It's weird, but very useful.\n",
    "print l[-1] # This is the last element"
   ]
  },
  {
   "cell_type": "code",
   "execution_count": 0,
   "metadata": {
    "colab": {
     "base_uri": "https://localhost:8080/",
     "height": 35
    },
    "colab_type": "code",
    "executionInfo": {
     "elapsed": 367,
     "status": "ok",
     "timestamp": 1538775862608,
     "user": {
      "displayName": "Luca de Alfaro",
      "photoUrl": "",
      "userId": "08154392717664554862"
     },
     "user_tz": 420
    },
    "id": "ai9qdyanbbxc",
    "outputId": "c0478c83-ef44-46f5-c392-13103db06264"
   },
   "outputs": [
    {
     "name": "stdout",
     "output_type": "stream",
     "text": [
      "['ant', 'fly']\n"
     ]
    }
   ],
   "source": [
    "print l[-2:] # From the penultimate onwards."
   ]
  },
  {
   "cell_type": "code",
   "execution_count": 0,
   "metadata": {
    "colab": {
     "base_uri": "https://localhost:8080/",
     "height": 35
    },
    "colab_type": "code",
    "executionInfo": {
     "elapsed": 369,
     "status": "ok",
     "timestamp": 1538775864813,
     "user": {
      "displayName": "Luca de Alfaro",
      "photoUrl": "",
      "userId": "08154392717664554862"
     },
     "user_tz": 420
    },
    "id": "oHfOp8ZHbvby",
    "outputId": "e7592020-1a10-4288-af62-a34bf89d7814"
   },
   "outputs": [
    {
     "name": "stdout",
     "output_type": "stream",
     "text": [
      "['cat', 'dog', 'bird', 'fish', 'ant', 'fly', 'spider']\n"
     ]
    }
   ],
   "source": [
    "# You append an element to a list like so:\n",
    "l.append('spider')\n",
    "print l"
   ]
  },
  {
   "cell_type": "code",
   "execution_count": 0,
   "metadata": {
    "colab": {
     "base_uri": "https://localhost:8080/",
     "height": 35
    },
    "colab_type": "code",
    "executionInfo": {
     "elapsed": 390,
     "status": "ok",
     "timestamp": 1538775872291,
     "user": {
      "displayName": "Luca de Alfaro",
      "photoUrl": "",
      "userId": "08154392717664554862"
     },
     "user_tz": 420
    },
    "id": "QR9hG_KTb4ZK",
    "outputId": "20137528-e055-4fa7-9f7a-6dfd93a4c519"
   },
   "outputs": [
    {
     "name": "stdout",
     "output_type": "stream",
     "text": [
      "['cat', 'dog', 'bird', 'fish', 'ant', 'fly', 'spider', 1, 2, 3]\n"
     ]
    }
   ],
   "source": [
    "# You can sum two lists.  \n",
    "print l + [1, 2, 3]"
   ]
  },
  {
   "cell_type": "code",
   "execution_count": 0,
   "metadata": {
    "colab": {},
    "colab_type": "code",
    "id": "TvY36vE6cOfT"
   },
   "outputs": [],
   "source": [
    "# And as you can see from above, in Python list elements don't have to be all\n",
    "# of the same type (but of course, you better know what you are doing if you\n",
    "# are mixing types)."
   ]
  },
  {
   "cell_type": "code",
   "execution_count": 0,
   "metadata": {
    "colab": {
     "base_uri": "https://localhost:8080/",
     "height": 35
    },
    "colab_type": "code",
    "executionInfo": {
     "elapsed": 381,
     "status": "ok",
     "timestamp": 1538775915686,
     "user": {
      "displayName": "Luca de Alfaro",
      "photoUrl": "",
      "userId": "08154392717664554862"
     },
     "user_tz": 420
    },
    "id": "qX3ZXVoYcXt8",
    "outputId": "40ae575d-152f-44a7-d5b6-7fd827ac431c"
   },
   "outputs": [
    {
     "name": "stdout",
     "output_type": "stream",
     "text": [
      "DOG\n"
     ]
    }
   ],
   "source": [
    "# You can apply one operation to all elements of a list like this. \n",
    "# First, let's notice how to capitalize a string.\n",
    "print \"dog\".upper()"
   ]
  },
  {
   "cell_type": "code",
   "execution_count": 0,
   "metadata": {
    "colab": {
     "base_uri": "https://localhost:8080/",
     "height": 35
    },
    "colab_type": "code",
    "executionInfo": {
     "elapsed": 301,
     "status": "ok",
     "timestamp": 1538775918884,
     "user": {
      "displayName": "Luca de Alfaro",
      "photoUrl": "",
      "userId": "08154392717664554862"
     },
     "user_tz": 420
    },
    "id": "Z4F-YGjcdD8U",
    "outputId": "fb8362ac-5a56-4615-96ba-1bd90bcbe0d8"
   },
   "outputs": [
    {
     "name": "stdout",
     "output_type": "stream",
     "text": [
      "Dog\n"
     ]
    }
   ],
   "source": [
    "# Well, that's kind of too much. What I meant was:\n",
    "print \"dog\".capitalize()"
   ]
  },
  {
   "cell_type": "code",
   "execution_count": 0,
   "metadata": {
    "colab": {
     "base_uri": "https://localhost:8080/",
     "height": 35
    },
    "colab_type": "code",
    "executionInfo": {
     "elapsed": 372,
     "status": "ok",
     "timestamp": 1538775960157,
     "user": {
      "displayName": "Luca de Alfaro",
      "photoUrl": "",
      "userId": "08154392717664554862"
     },
     "user_tz": 420
    },
    "id": "6I0VvbnWdLcW",
    "outputId": "205d7b0d-c429-4355-b039-3095ae51fc03"
   },
   "outputs": [
    {
     "name": "stdout",
     "output_type": "stream",
     "text": [
      "['Cat', 'Dog', 'Bird', 'Fish', 'Ant', 'Fly', 'Spider']\n"
     ]
    }
   ],
   "source": [
    "# Ok that's better.  Now, I want to get a list like l, except with the animals capitalized.\n",
    "l_capitalized = [s.capitalize() for s in l]\n",
    "print l_capitalized"
   ]
  },
  {
   "cell_type": "code",
   "execution_count": 0,
   "metadata": {
    "colab": {},
    "colab_type": "code",
    "id": "Vbeb_TatdWcL"
   },
   "outputs": [],
   "source": [
    "# What's going on?  Basically, in the [ ... ] we are building another list, \n",
    "# and we give the instructions on how to create each element. \n",
    "# And how do we create each element?  We iterate over the list l, \"for s in l\",\n",
    "# and for each of its elements s, we do s.capitalize(), which capitalizes the string."
   ]
  },
  {
   "cell_type": "code",
   "execution_count": 0,
   "metadata": {
    "colab": {
     "base_uri": "https://localhost:8080/",
     "height": 69
    },
    "colab_type": "code",
    "executionInfo": {
     "elapsed": 316,
     "status": "ok",
     "timestamp": 1538776095954,
     "user": {
      "displayName": "Luca de Alfaro",
      "photoUrl": "",
      "userId": "08154392717664554862"
     },
     "user_tz": 420
    },
    "id": "uPz_gWlHemaf",
    "outputId": "275d5e17-5b20-44c2-8698-136cc147db6a"
   },
   "outputs": [
    {
     "name": "stdout",
     "output_type": "stream",
     "text": [
      "7\n",
      "7\n",
      "[3, 3, 4, 4, 3, 3, 6]\n"
     ]
    }
   ],
   "source": [
    "# You can get the length of a string, or a list, with the len() operator.\n",
    "print len(l)\n",
    "print len(l_capitalized)\n",
    "print [len(s) for s in l]"
   ]
  },
  {
   "cell_type": "markdown",
   "metadata": {
    "colab_type": "text",
    "id": "P7-9n_PTeZEk"
   },
   "source": [
    "See https://docs.python.org/2.7/tutorial/datastructures.html for more list functions."
   ]
  },
  {
   "cell_type": "markdown",
   "metadata": {
    "colab_type": "text",
    "id": "At7-_WM6bn6A"
   },
   "source": [
    "### Tuples"
   ]
  },
  {
   "cell_type": "code",
   "execution_count": 0,
   "metadata": {
    "colab": {
     "base_uri": "https://localhost:8080/",
     "height": 35
    },
    "colab_type": "code",
    "executionInfo": {
     "elapsed": 310,
     "status": "ok",
     "timestamp": 1538776160444,
     "user": {
      "displayName": "Luca de Alfaro",
      "photoUrl": "",
      "userId": "08154392717664554862"
     },
     "user_tz": 420
    },
    "id": "7oy34EaEbrjC",
    "outputId": "fb63bf54-48d0-4cf8-994c-f58a57e6c95b"
   },
   "outputs": [
    {
     "name": "stdout",
     "output_type": "stream",
     "text": [
      "1.0 2.0\n"
     ]
    }
   ],
   "source": [
    "# Tuples are kind of like lists, except they are immutable.\n",
    "# Here are two points in 2-D.\n",
    "p1 = (1., 2.)\n",
    "p2 = (3.1, 3.2)\n",
    "# The useful thing with tuples is that they are easy to take apart.\n",
    "# Whereas a beginner would write\n",
    "x = p1[0]\n",
    "y = p1[1]\n",
    "print x, y\n"
   ]
  },
  {
   "cell_type": "code",
   "execution_count": 0,
   "metadata": {
    "colab": {
     "base_uri": "https://localhost:8080/",
     "height": 35
    },
    "colab_type": "code",
    "executionInfo": {
     "elapsed": 557,
     "status": "ok",
     "timestamp": 1538776204914,
     "user": {
      "displayName": "Luca de Alfaro",
      "photoUrl": "",
      "userId": "08154392717664554862"
     },
     "user_tz": 420
    },
    "id": "0gfdrkwrfdho",
    "outputId": "b0acb16b-d8d0-4ad1-99bb-9cf95bc7299a"
   },
   "outputs": [
    {
     "name": "stdout",
     "output_type": "stream",
     "text": [
      "1.0 2.0\n"
     ]
    }
   ],
   "source": [
    "# anyone with a bit of Python experience would instead write: \n",
    "x, y = p1\n",
    "print x, y"
   ]
  },
  {
   "cell_type": "code",
   "execution_count": 0,
   "metadata": {
    "colab": {
     "base_uri": "https://localhost:8080/",
     "height": 104
    },
    "colab_type": "code",
    "executionInfo": {
     "elapsed": 342,
     "status": "ok",
     "timestamp": 1538776208174,
     "user": {
      "displayName": "Luca de Alfaro",
      "photoUrl": "",
      "userId": "08154392717664554862"
     },
     "user_tz": 420
    },
    "id": "W4loQJ6eflCt",
    "outputId": "2514cd8c-fb46-4d11-cf1f-4ad06827d235"
   },
   "outputs": [
    {
     "name": "stdout",
     "output_type": "stream",
     "text": [
      "Traceback (most recent call last):\n",
      "  File \"<ipython-input-28-f2cc72c4503b>\", line 3, in <module>\n",
      "    x, y, z = p2\n",
      "ValueError: need more than 2 values to unpack\n",
      "\n"
     ]
    }
   ],
   "source": [
    "# Of course, the above works only if the tuple of variables on the left hand side\n",
    "# is the same length as the tuple on the right hand side!\n",
    "import traceback\n",
    "try:\n",
    "    x, y, z = p2\n",
    "except:\n",
    "    print traceback.format_exc()"
   ]
  },
  {
   "cell_type": "code",
   "execution_count": 0,
   "metadata": {
    "colab": {
     "base_uri": "https://localhost:8080/",
     "height": 35
    },
    "colab_type": "code",
    "executionInfo": {
     "elapsed": 387,
     "status": "ok",
     "timestamp": 1538776307542,
     "user": {
      "displayName": "Luca de Alfaro",
      "photoUrl": "",
      "userId": "08154392717664554862"
     },
     "user_tz": 420
    },
    "id": "K9VOU24Xfw9G",
    "outputId": "2e89be0c-241f-409c-9047-8a89e563a4f8"
   },
   "outputs": [
    {
     "name": "stdout",
     "output_type": "stream",
     "text": [
      "1.0\n"
     ]
    }
   ],
   "source": [
    "# If you don't care about a component, you can just use _\n",
    "x, _ = p1\n",
    "print x"
   ]
  },
  {
   "cell_type": "markdown",
   "metadata": {
    "colab_type": "text",
    "id": "xFAS-L5uZtff"
   },
   "source": [
    "## String operations"
   ]
  },
  {
   "cell_type": "code",
   "execution_count": 0,
   "metadata": {
    "colab": {
     "base_uri": "https://localhost:8080/",
     "height": 35
    },
    "colab_type": "code",
    "executionInfo": {
     "elapsed": 378,
     "status": "ok",
     "timestamp": 1538776330560,
     "user": {
      "displayName": "Luca de Alfaro",
      "photoUrl": "",
      "userId": "08154392717664554862"
     },
     "user_tz": 420
    },
    "id": "2zNELDI6Y4bi",
    "outputId": "1d850ec3-9ffd-40aa-dbf1-9042bdb42080"
   },
   "outputs": [
    {
     "name": "stdout",
     "output_type": "stream",
     "text": [
      "A string It's nice to be able to choose the delimiters\n"
     ]
    }
   ],
   "source": [
    "# Strings can be split according to a delimiter (space is the default),\n",
    "# and also be put back together. \n",
    "s = 'A string'\n",
    "t = \"It's nice to be able to choose the delimiters\"\n",
    "\n",
    "print s + \" \" + t"
   ]
  },
  {
   "cell_type": "code",
   "execution_count": 0,
   "metadata": {
    "colab": {
     "base_uri": "https://localhost:8080/",
     "height": 35
    },
    "colab_type": "code",
    "executionInfo": {
     "elapsed": 344,
     "status": "ok",
     "timestamp": 1538776335084,
     "user": {
      "displayName": "Luca de Alfaro",
      "photoUrl": "",
      "userId": "08154392717664554862"
     },
     "user_tz": 420
    },
    "id": "h0vkoGrTZir7",
    "outputId": "3bba3d5d-97b5-4d28-d946-da747cc4a425"
   },
   "outputs": [
    {
     "name": "stdout",
     "output_type": "stream",
     "text": [
      "[\"It's\", 'nice', 'to', 'be', 'able', 'to', 'choose', 'the', 'delimiters']\n"
     ]
    }
   ],
   "source": [
    "print t.split()"
   ]
  },
  {
   "cell_type": "code",
   "execution_count": 0,
   "metadata": {
    "colab": {
     "base_uri": "https://localhost:8080/",
     "height": 35
    },
    "colab_type": "code",
    "executionInfo": {
     "elapsed": 350,
     "status": "ok",
     "timestamp": 1538776343622,
     "user": {
      "displayName": "Luca de Alfaro",
      "photoUrl": "",
      "userId": "08154392717664554862"
     },
     "user_tz": 420
    },
    "id": "uKE_8q0sZnvr",
    "outputId": "e6fba0a2-fcbc-4b9f-f684-f5820aa9989b"
   },
   "outputs": [
    {
     "name": "stdout",
     "output_type": "stream",
     "text": [
      "[\"It's nice to be \", 'ble to choose the delimiters']\n"
     ]
    }
   ],
   "source": [
    "print t.split('a')"
   ]
  },
  {
   "cell_type": "code",
   "execution_count": 0,
   "metadata": {
    "colab": {
     "base_uri": "https://localhost:8080/",
     "height": 35
    },
    "colab_type": "code",
    "executionInfo": {
     "elapsed": 336,
     "status": "ok",
     "timestamp": 1538776367597,
     "user": {
      "displayName": "Luca de Alfaro",
      "photoUrl": "",
      "userId": "08154392717664554862"
     },
     "user_tz": 420
    },
    "id": "dJ5gjcRHgnPh",
    "outputId": "4fbfa8ba-4032-4617-b54c-bf449c18b93e"
   },
   "outputs": [
    {
     "name": "stdout",
     "output_type": "stream",
     "text": [
      "to be able to choose the delimiters\n"
     ]
    }
   ],
   "source": [
    "# A string can also be addressed as if it were a list of its characters.\n",
    "print t[10:]"
   ]
  },
  {
   "cell_type": "markdown",
   "metadata": {
    "colab_type": "text",
    "id": "IyTNBT8sh-UE"
   },
   "source": [
    "## Dictionaries"
   ]
  },
  {
   "cell_type": "code",
   "execution_count": 0,
   "metadata": {
    "colab": {},
    "colab_type": "code",
    "id": "MQXjLViBgx7T"
   },
   "outputs": [],
   "source": [
    "# Dictionaries in Python are essentially maps between sets, or, one-to-many functions. \n",
    "# Or if you are in CS, they are like hash tables.  In fact, turns out they are hash tables.\n",
    "# Except you don't need to worry about their implementation. \n",
    "# Enough said, let's define one.\n",
    "n_of_paws = {'cat': 4, 'fish': 0, 'bird': 2, 'snake': 0}"
   ]
  },
  {
   "cell_type": "code",
   "execution_count": 0,
   "metadata": {
    "colab": {
     "base_uri": "https://localhost:8080/",
     "height": 35
    },
    "colab_type": "code",
    "executionInfo": {
     "elapsed": 367,
     "status": "ok",
     "timestamp": 1538776473660,
     "user": {
      "displayName": "Luca de Alfaro",
      "photoUrl": "",
      "userId": "08154392717664554862"
     },
     "user_tz": 420
    },
    "id": "xyz8v8q2ieNJ",
    "outputId": "9274ce6e-0b20-4659-b3dc-c344edef1234"
   },
   "outputs": [
    {
     "name": "stdout",
     "output_type": "stream",
     "text": [
      "['fish', 'bird', 'snake', 'cat']\n"
     ]
    }
   ],
   "source": [
    "# You can ask for the list of keys of a dictionary:\n",
    "print n_of_paws.keys()"
   ]
  },
  {
   "cell_type": "code",
   "execution_count": 0,
   "metadata": {
    "colab": {
     "base_uri": "https://localhost:8080/",
     "height": 35
    },
    "colab_type": "code",
    "executionInfo": {
     "elapsed": 321,
     "status": "ok",
     "timestamp": 1538776477309,
     "user": {
      "displayName": "Luca de Alfaro",
      "photoUrl": "",
      "userId": "08154392717664554862"
     },
     "user_tz": 420
    },
    "id": "mjnGwK4lijCi",
    "outputId": "046d2c47-2611-43e6-d2dd-4136a3328874"
   },
   "outputs": [
    {
     "name": "stdout",
     "output_type": "stream",
     "text": [
      "[0, 2, 0, 4]\n"
     ]
    }
   ],
   "source": [
    "# and for the list of values (this tends to be less useful):\n",
    "print n_of_paws.values()"
   ]
  },
  {
   "cell_type": "code",
   "execution_count": 0,
   "metadata": {
    "colab": {
     "base_uri": "https://localhost:8080/",
     "height": 35
    },
    "colab_type": "code",
    "executionInfo": {
     "elapsed": 336,
     "status": "ok",
     "timestamp": 1538776481649,
     "user": {
      "displayName": "Luca de Alfaro",
      "photoUrl": "",
      "userId": "08154392717664554862"
     },
     "user_tz": 420
    },
    "id": "ectytnryiq3f",
    "outputId": "e04b8cb4-eee6-48e8-c6ee-5c664c39449c"
   },
   "outputs": [
    {
     "name": "stdout",
     "output_type": "stream",
     "text": [
      "[('fish', 0), ('bird', 2), ('snake', 0), ('cat', 4)]\n"
     ]
    }
   ],
   "source": [
    "# Much more useful is to have the list of (key, value) pairs.\n",
    "# It's a list of tuples, in case you are wondering.\n",
    "print n_of_paws.items()"
   ]
  },
  {
   "cell_type": "code",
   "execution_count": 0,
   "metadata": {
    "colab": {
     "base_uri": "https://localhost:8080/",
     "height": 35
    },
    "colab_type": "code",
    "executionInfo": {
     "elapsed": 414,
     "status": "ok",
     "timestamp": 1538776504741,
     "user": {
      "displayName": "Luca de Alfaro",
      "photoUrl": "",
      "userId": "08154392717664554862"
     },
     "user_tz": 420
    },
    "id": "cQmzw2CwiTP-",
    "outputId": "9f45119a-949b-4cc7-bb90-98140d705e2d"
   },
   "outputs": [
    {
     "name": "stdout",
     "output_type": "stream",
     "text": [
      "0\n"
     ]
    }
   ],
   "source": [
    "# Dictionaries can be indexed with [] notation like list indexing, \n",
    "# except they are indexed by their \"keys\", not by integers.\n",
    "print n_of_paws['fish']"
   ]
  },
  {
   "cell_type": "code",
   "execution_count": 0,
   "metadata": {
    "colab": {
     "base_uri": "https://localhost:8080/",
     "height": 52
    },
    "colab_type": "code",
    "executionInfo": {
     "elapsed": 364,
     "status": "ok",
     "timestamp": 1538776518431,
     "user": {
      "displayName": "Luca de Alfaro",
      "photoUrl": "",
      "userId": "08154392717664554862"
     },
     "user_tz": 420
    },
    "id": "yFPoZI56i4w7",
    "outputId": "8fc909f7-4064-4934-ecd1-63a177344490"
   },
   "outputs": [
    {
     "name": "stdout",
     "output_type": "stream",
     "text": [
      "False\n",
      "True\n"
     ]
    }
   ],
   "source": [
    "# You can check whehter something is in a dictionary with the 'in' operator:\n",
    "print \"elephant\" in n_of_paws\n",
    "print \"cat\" in n_of_paws"
   ]
  },
  {
   "cell_type": "code",
   "execution_count": 0,
   "metadata": {
    "colab": {
     "base_uri": "https://localhost:8080/",
     "height": 52
    },
    "colab_type": "code",
    "executionInfo": {
     "elapsed": 437,
     "status": "ok",
     "timestamp": 1538776574891,
     "user": {
      "displayName": "Luca de Alfaro",
      "photoUrl": "",
      "userId": "08154392717664554862"
     },
     "user_tz": 420
    },
    "id": "BL4F480njCHe",
    "outputId": "2ff3c0f4-e408-4dd8-a4ae-4e2a83b8da19"
   },
   "outputs": [
    {
     "name": "stdout",
     "output_type": "stream",
     "text": [
      "0\n",
      "None\n"
     ]
    }
   ],
   "source": [
    "# If you are not sure whether a key is in the dictionary, you can use .get() \n",
    "# rather than []:\n",
    "print n_of_paws.get('fish')\n",
    "print n_of_paws.get('elephant')"
   ]
  },
  {
   "cell_type": "code",
   "execution_count": 0,
   "metadata": {
    "colab": {
     "base_uri": "https://localhost:8080/",
     "height": 52
    },
    "colab_type": "code",
    "executionInfo": {
     "elapsed": 375,
     "status": "ok",
     "timestamp": 1538776729904,
     "user": {
      "displayName": "Luca de Alfaro",
      "photoUrl": "",
      "userId": "08154392717664554862"
     },
     "user_tz": 420
    },
    "id": "qfGktFTkO9Sj",
    "outputId": "91f3045a-0227-4040-de42-319c8d509191"
   },
   "outputs": [
    {
     "name": "stdout",
     "output_type": "stream",
     "text": [
      "peter\n",
      "helen\n"
     ]
    }
   ],
   "source": [
    "nicks = {'luca': 'peter', 'joe': 'doe'}\n",
    "\n",
    "def nick_if_you_have_it(n):\n",
    "    nn = nicks.get(n)\n",
    "    return n if nn is None else nn\n",
    "\n",
    "print nick_if_you_have_it('luca')\n",
    "print nick_if_you_have_it('helen')"
   ]
  },
  {
   "cell_type": "code",
   "execution_count": 0,
   "metadata": {
    "colab": {},
    "colab_type": "code",
    "id": "Kf5rzCAxlhof"
   },
   "outputs": [],
   "source": [
    "# This also shows why None is so useful.\n",
    "# Let's do another example.  Suppose you are given a list of animals.\n",
    "animals = ['pig', 'donkey', 'chicken', 'cat', 'dog', 'snake']"
   ]
  },
  {
   "cell_type": "code",
   "execution_count": 0,
   "metadata": {
    "colab": {
     "base_uri": "https://localhost:8080/",
     "height": 35
    },
    "colab_type": "code",
    "executionInfo": {
     "elapsed": 383,
     "status": "ok",
     "timestamp": 1538776749305,
     "user": {
      "displayName": "Luca de Alfaro",
      "photoUrl": "",
      "userId": "08154392717664554862"
     },
     "user_tz": 420
    },
    "id": "BIP3KG6Vlkfy",
    "outputId": "1477dfdb-cb16-4af7-b8cd-383737782e4d"
   },
   "outputs": [
    {
     "name": "stdout",
     "output_type": "stream",
     "text": [
      "[None, None, None, 4, None, 0]\n"
     ]
    }
   ],
   "source": [
    "# Now you want to build a second list, containing the number of paws of each.\n",
    "my_paws = [n_of_paws.get(a) for a in animals]\n",
    "print my_paws"
   ]
  },
  {
   "cell_type": "code",
   "execution_count": 0,
   "metadata": {
    "colab": {
     "base_uri": "https://localhost:8080/",
     "height": 35
    },
    "colab_type": "code",
    "executionInfo": {
     "elapsed": 877,
     "status": "ok",
     "timestamp": 1538776824634,
     "user": {
      "displayName": "Luca de Alfaro",
      "photoUrl": "",
      "userId": "08154392717664554862"
     },
     "user_tz": 420
    },
    "id": "9aYfZ54rxDWy",
    "outputId": "951f288e-32b2-443c-baf5-ce40d05119f9"
   },
   "outputs": [
    {
     "name": "stdout",
     "output_type": "stream",
     "text": [
      "{'donkey': None, 'dog': None, 'cat': 4, 'snake': 0, 'chicken': None, 'pig': None}\n"
     ]
    }
   ],
   "source": [
    "# Hmm, we don't know it for all animals.  And also, I would like a dictionary. \n",
    "# Let's fix the dictionary thing first. \n",
    "my_paws = {a : n_of_paws.get(a) for a in animals}\n",
    "print my_paws"
   ]
  },
  {
   "cell_type": "markdown",
   "metadata": {
    "colab_type": "text",
    "id": "N8-T8MYnzKYe"
   },
   "source": [
    "What we did above is a dictionary comprehension.\n",
    "It works similarly to a string comprehension, but uses the syntax {k: d for ...}\n",
    "to build the dictionary.  "
   ]
  },
  {
   "cell_type": "code",
   "execution_count": 0,
   "metadata": {
    "colab": {
     "base_uri": "https://localhost:8080/",
     "height": 35
    },
    "colab_type": "code",
    "executionInfo": {
     "elapsed": 966,
     "status": "ok",
     "timestamp": 1538776860968,
     "user": {
      "displayName": "Luca de Alfaro",
      "photoUrl": "",
      "userId": "08154392717664554862"
     },
     "user_tz": 420
    },
    "id": "conzHq0cxigR",
    "outputId": "63088d1a-68db-4057-d452-76649c49342b"
   },
   "outputs": [
    {
     "name": "stdout",
     "output_type": "stream",
     "text": [
      "{'fish': 0, 'cat': 4, 'dog': 4, 'bird': 2}\n"
     ]
    }
   ],
   "source": [
    "# You can also build a dictionary like this:\n",
    "d = dict(dog=4, cat=4, bird=2, fish=0)\n",
    "# Of course, the keys need to be variable names...\n",
    "print d"
   ]
  },
  {
   "cell_type": "code",
   "execution_count": 0,
   "metadata": {
    "colab": {
     "base_uri": "https://localhost:8080/",
     "height": 35
    },
    "colab_type": "code",
    "executionInfo": {
     "elapsed": 384,
     "status": "ok",
     "timestamp": 1538776961592,
     "user": {
      "displayName": "Luca de Alfaro",
      "photoUrl": "",
      "userId": "08154392717664554862"
     },
     "user_tz": 420
    },
    "id": "I4fH86tXQOHh",
    "outputId": "bbd114ef-954f-40d9-eba6-298e26ea0476"
   },
   "outputs": [
    {
     "name": "stdout",
     "output_type": "stream",
     "text": [
      "set([])\n"
     ]
    }
   ],
   "source": [
    "# Sets. \n",
    "s = set()\n",
    "print s"
   ]
  },
  {
   "cell_type": "markdown",
   "metadata": {
    "colab_type": "text",
    "id": "PNT4q5Ks7v79"
   },
   "source": [
    "## Conditionals"
   ]
  },
  {
   "cell_type": "code",
   "execution_count": 0,
   "metadata": {
    "colab": {
     "base_uri": "https://localhost:8080/",
     "height": 35
    },
    "colab_type": "code",
    "executionInfo": {
     "elapsed": 372,
     "status": "ok",
     "timestamp": 1538777034544,
     "user": {
      "displayName": "Luca de Alfaro",
      "photoUrl": "",
      "userId": "08154392717664554862"
     },
     "user_tz": 420
    },
    "id": "SVoA-VsT7ys_",
    "outputId": "04365958-1a2a-4fda-ac5d-96adc5f055fc"
   },
   "outputs": [
    {
     "name": "stdout",
     "output_type": "stream",
     "text": [
      "True\n"
     ]
    }
   ],
   "source": [
    "# You can build boolean expressions with the usual relational operators\n",
    "# <, <=, >, >=, ==, and !=. \n",
    "print 3 < 4"
   ]
  },
  {
   "cell_type": "code",
   "execution_count": 0,
   "metadata": {
    "colab": {
     "base_uri": "https://localhost:8080/",
     "height": 52
    },
    "colab_type": "code",
    "executionInfo": {
     "elapsed": 316,
     "status": "ok",
     "timestamp": 1538777036922,
     "user": {
      "displayName": "Luca de Alfaro",
      "photoUrl": "",
      "userId": "08154392717664554862"
     },
     "user_tz": 420
    },
    "id": "9Fvh8i1178HH",
    "outputId": "8f329c4b-6889-4970-e416-c5408236aab6"
   },
   "outputs": [
    {
     "name": "stdout",
     "output_type": "stream",
     "text": [
      "True\n",
      "True\n"
     ]
    }
   ],
   "source": [
    "# There are also other operators.  One is \"in\", to test membership \n",
    "# in lists or dictionaries or sets or strings: \n",
    "print 'a' in ['a', 'b', 'c']\n",
    "print 'a' in 'hello my dear'"
   ]
  },
  {
   "cell_type": "code",
   "execution_count": 0,
   "metadata": {
    "colab": {
     "base_uri": "https://localhost:8080/",
     "height": 35
    },
    "colab_type": "code",
    "executionInfo": {
     "elapsed": 374,
     "status": "ok",
     "timestamp": 1538777042732,
     "user": {
      "displayName": "Luca de Alfaro",
      "photoUrl": "",
      "userId": "08154392717664554862"
     },
     "user_tz": 420
    },
    "id": "RfhvJmk38PdR",
    "outputId": "96caf2ce-e3f6-4ef5-da40-081e89c6ef88"
   },
   "outputs": [
    {
     "name": "stdout",
     "output_type": "stream",
     "text": [
      "[1, 2, 3, 4]\n"
     ]
    }
   ],
   "source": [
    "# Another one is \"is\" and \"is not\", to check whether two things are identical, \n",
    "# most often used for None: \n",
    "print [a for a in [1, 2, 3, None, 4] if a is not None]"
   ]
  },
  {
   "cell_type": "code",
   "execution_count": 0,
   "metadata": {
    "colab": {
     "base_uri": "https://localhost:8080/",
     "height": 364
    },
    "colab_type": "code",
    "executionInfo": {
     "elapsed": 454,
     "status": "ok",
     "timestamp": 1538777287258,
     "user": {
      "displayName": "Luca de Alfaro",
      "photoUrl": "",
      "userId": "08154392717664554862"
     },
     "user_tz": 420
    },
    "id": "RDIMwV2K8flt",
    "outputId": "626374e1-7541-48a9-b43d-6cc9cc59d016"
   },
   "outputs": [
    {
     "name": "stdout",
     "output_type": "stream",
     "text": [
      "0 is even\n",
      "0 is multiple of 3\n",
      "1 is odd\n",
      "1 is 1 above a multiple of 3\n",
      "2 is even\n",
      "2 is 1 below a multiple of 3\n",
      "3 is odd\n",
      "3 is multiple of 3\n",
      "4 is even\n",
      "4 is 1 above a multiple of 3\n",
      "5 is odd\n",
      "5 is 1 below a multiple of 3\n",
      "6 is even\n",
      "6 is multiple of 3\n",
      "7 is odd\n",
      "7 is 1 above a multiple of 3\n",
      "8 is even\n",
      "8 is 1 below a multiple of 3\n",
      "9 is odd\n",
      "9 is multiple of 3\n"
     ]
    }
   ],
   "source": [
    "# The if is expressed via if / elif / else:\n",
    "for x in range(10):\n",
    "    if x % 2 == 0: # The % is the modulus operator.\n",
    "        print x, \"is even\"\n",
    "    else:\n",
    "        print x, \"is odd\"\n",
    "    if x % 3 == 0:\n",
    "        print x, \"is multiple of 3\"\n",
    "    elif x % 3 == 1:\n",
    "        print x, \"is 1 above a multiple of 3\"\n",
    "    else:\n",
    "        print x, \"is 1 below a multiple of 3\""
   ]
  },
  {
   "cell_type": "code",
   "execution_count": 0,
   "metadata": {
    "colab": {
     "base_uri": "https://localhost:8080/",
     "height": 35
    },
    "colab_type": "code",
    "executionInfo": {
     "elapsed": 396,
     "status": "ok",
     "timestamp": 1538777316698,
     "user": {
      "displayName": "Luca de Alfaro",
      "photoUrl": "",
      "userId": "08154392717664554862"
     },
     "user_tz": 420
    },
    "id": "oI5OLlZT9L9d",
    "outputId": "6377962f-0d2a-43b4-aded-bf2f6454e497"
   },
   "outputs": [
    {
     "name": "stdout",
     "output_type": "stream",
     "text": [
      "5\n"
     ]
    }
   ],
   "source": [
    "# If / then / else can be used also as an expression, using the following syntax:\n",
    "x = 3\n",
    "y = x + 1 if x % 2 == 0 else x + 2\n",
    "print y"
   ]
  },
  {
   "cell_type": "code",
   "execution_count": 0,
   "metadata": {
    "colab": {
     "base_uri": "https://localhost:8080/",
     "height": 35
    },
    "colab_type": "code",
    "executionInfo": {
     "elapsed": 350,
     "status": "ok",
     "timestamp": 1538777328985,
     "user": {
      "displayName": "Luca de Alfaro",
      "photoUrl": "",
      "userId": "08154392717664554862"
     },
     "user_tz": 420
    },
    "id": "y-Hx6dEd9dzT",
    "outputId": "d7588ea3-e4dd-450a-9767-c2e396110c9f"
   },
   "outputs": [
    {
     "name": "stdout",
     "output_type": "stream",
     "text": [
      "[0, -1, 2, -3, 4, -5, 6, -7, 8, -9]\n"
     ]
    }
   ],
   "source": [
    "# This can be very handy in list comprehensions.\n",
    "print [x if x % 2 == 0 else - x for x in range(10)]"
   ]
  },
  {
   "cell_type": "markdown",
   "metadata": {
    "colab_type": "text",
    "id": "xNpgmyOd0gHR"
   },
   "source": [
    "## Iteration"
   ]
  },
  {
   "cell_type": "code",
   "execution_count": 0,
   "metadata": {
    "colab": {
     "base_uri": "https://localhost:8080/",
     "height": 191
    },
    "colab_type": "code",
    "executionInfo": {
     "elapsed": 374,
     "status": "ok",
     "timestamp": 1538777408948,
     "user": {
      "displayName": "Luca de Alfaro",
      "photoUrl": "",
      "userId": "08154392717664554862"
     },
     "user_tz": 420
    },
    "id": "mva7sbs-y7lR",
    "outputId": "6e162572-d0d2-4b06-afdb-561729867790"
   },
   "outputs": [
    {
     "name": "stdout",
     "output_type": "stream",
     "text": [
      "My word is: I\n",
      "My word is: like\n",
      "My word is: to\n",
      "My word is: eat\n",
      "My word is: pizza\n",
      "My word is: with\n",
      "My word is: anchovies,\n",
      "My word is: I\n",
      "My word is: actually\n",
      "My word is: do!\n"
     ]
    }
   ],
   "source": [
    "# In old poor languages like Fortran and C, when you iterate, you have to \n",
    "# have a counter, increment it, and all that stuff.  Yeech. \n",
    "# Not so in Python.  You iterate over something that is iterable, that is, \n",
    "# that has (or can produce) a sequence of elements.  Like... a list! \n",
    "my_words = \"I like to eat pizza with anchovies, I actually do!\".split()\n",
    "for w in my_words:\n",
    "    print \"My word is:\", w"
   ]
  },
  {
   "cell_type": "code",
   "execution_count": 0,
   "metadata": {
    "colab": {
     "base_uri": "https://localhost:8080/",
     "height": 191
    },
    "colab_type": "code",
    "executionInfo": {
     "elapsed": 386,
     "status": "ok",
     "timestamp": 1538777422079,
     "user": {
      "displayName": "Luca de Alfaro",
      "photoUrl": "",
      "userId": "08154392717664554862"
     },
     "user_tz": 420
    },
    "id": "TVSICPjF1MHt",
    "outputId": "f51aa43f-676f-40d2-bf12-911612bb5183"
   },
   "outputs": [
    {
     "name": "stdout",
     "output_type": "stream",
     "text": [
      "The word number 0 is: I\n",
      "The word number 1 is: like\n",
      "The word number 2 is: to\n",
      "The word number 3 is: eat\n",
      "The word number 4 is: pizza\n",
      "The word number 5 is: with\n",
      "The word number 6 is: anchovies,\n",
      "The word number 7 is: I\n",
      "The word number 8 is: actually\n",
      "The word number 9 is: do!\n"
     ]
    }
   ],
   "source": [
    "# You can also iterate over pairs, consisting of the element index and the list element:\n",
    "for i, w in enumerate(my_words):\n",
    "    print \"The word number\", i, \"is:\", w"
   ]
  },
  {
   "cell_type": "code",
   "execution_count": 0,
   "metadata": {
    "colab": {
     "base_uri": "https://localhost:8080/",
     "height": 156
    },
    "colab_type": "code",
    "executionInfo": {
     "elapsed": 389,
     "status": "ok",
     "timestamp": 1538777498309,
     "user": {
      "displayName": "Luca de Alfaro",
      "photoUrl": "",
      "userId": "08154392717664554862"
     },
     "user_tz": 420
    },
    "id": "pRbVD4DT1aEI",
    "outputId": "82a88ae2-4c92-40ac-e318-1dd040bbde0e"
   },
   "outputs": [
    {
     "name": "stdout",
     "output_type": "stream",
     "text": [
      "I\n",
      "like\n",
      "to\n",
      "eat\n",
      "pizza\n",
      "with\n",
      "anchovies,\n",
      "   Indeed, they are delicious, no need to say more!\n"
     ]
    }
   ],
   "source": [
    "# If you get tired of iteration, you can break out of it: \n",
    "for w in my_words:\n",
    "    print w\n",
    "    if w.startswith('anchovies'):\n",
    "        print \"   Indeed, they are delicious, no need to say more!\"\n",
    "        break"
   ]
  },
  {
   "cell_type": "code",
   "execution_count": 0,
   "metadata": {
    "colab": {
     "base_uri": "https://localhost:8080/",
     "height": 191
    },
    "colab_type": "code",
    "executionInfo": {
     "elapsed": 400,
     "status": "ok",
     "timestamp": 1538777555702,
     "user": {
      "displayName": "Luca de Alfaro",
      "photoUrl": "",
      "userId": "08154392717664554862"
     },
     "user_tz": 420
    },
    "id": "9wtkml541jVB",
    "outputId": "90d1fae3-709a-4d40-c916-13b0726c433c"
   },
   "outputs": [
    {
     "name": "stdout",
     "output_type": "stream",
     "text": [
      "My integer is: 0\n",
      "My integer is: 1\n",
      "My integer is: 2\n",
      "My integer is: 3\n",
      "My integer is: 4\n",
      "My integer is: 5\n",
      "My integer is: 6\n",
      "My integer is: 7\n",
      "My integer is: 8\n",
      "My integer is: 9\n"
     ]
    }
   ],
   "source": [
    "# And if you need to iterate over indices, like you used to do in C? \n",
    "# Well, you just create... a list of indices! \n",
    "for i in range(10):\n",
    "    print \"My integer is:\", i"
   ]
  },
  {
   "cell_type": "code",
   "execution_count": 0,
   "metadata": {
    "colab": {
     "base_uri": "https://localhost:8080/",
     "height": 121
    },
    "colab_type": "code",
    "executionInfo": {
     "elapsed": 477,
     "status": "ok",
     "timestamp": 1538777561861,
     "user": {
      "displayName": "Luca de Alfaro",
      "photoUrl": "",
      "userId": "08154392717664554862"
     },
     "user_tz": 420
    },
    "id": "LhzuMNq62FXn",
    "outputId": "48644c17-47c4-4786-d1be-00a5dcc615f7"
   },
   "outputs": [
    {
     "name": "stdout",
     "output_type": "stream",
     "text": [
      "Let's print the first five words\n",
      "I\n",
      "like\n",
      "to\n",
      "eat\n",
      "pizza\n"
     ]
    }
   ],
   "source": [
    "# Note that you can also iterate on list slices:\n",
    "print \"Let's print the first five words\"\n",
    "for w in my_words[:5]:\n",
    "    print w"
   ]
  },
  {
   "cell_type": "markdown",
   "metadata": {
    "colab_type": "text",
    "id": "rLJGUjp22xL5"
   },
   "source": [
    "Oh btw, did you notice that we are using indentation rather than those \n",
    "pesky { } ?  Some people think it's silly, a throwback to Fortran and \n",
    "punched cards.  I think it's brilliant.  See, in C or Java you have \n",
    "two things: the real structure of the code (indicated by braces) and the illustrated structure (indicated by indentation).  The problem with this is that sometimes indentation and braces they differ, and when they do, the visual indication is fallacious.  In Python, the visual indication is also the structural one, and is always truthful. \n",
    "\n",
    "I am sure you prefer this to a language where there is only structure and no visuals! "
   ]
  },
  {
   "cell_type": "code",
   "execution_count": 0,
   "metadata": {
    "colab": {
     "base_uri": "https://localhost:8080/",
     "height": 87
    },
    "colab_type": "code",
    "executionInfo": {
     "elapsed": 296,
     "status": "ok",
     "timestamp": 1538777570711,
     "user": {
      "displayName": "Luca de Alfaro",
      "photoUrl": "",
      "userId": "08154392717664554862"
     },
     "user_tz": 420
    },
    "id": "05zZ65Yc2Vej",
    "outputId": "16bf9512-33ff-4a47-e2e9-0a1e9e7ee30b"
   },
   "outputs": [
    {
     "name": "stdout",
     "output_type": "stream",
     "text": [
      "I have a fish\n",
      "I have a bird\n",
      "I have a snake\n",
      "I have a cat\n"
     ]
    }
   ],
   "source": [
    "# If you have a dictionary, you can iterate on it like this. \n",
    "# On keys only (because .keys() returns the list of keys):\n",
    "for k in n_of_paws.keys():\n",
    "    print \"I have a\", k\n"
   ]
  },
  {
   "cell_type": "code",
   "execution_count": 0,
   "metadata": {
    "colab": {
     "base_uri": "https://localhost:8080/",
     "height": 87
    },
    "colab_type": "code",
    "executionInfo": {
     "elapsed": 390,
     "status": "ok",
     "timestamp": 1538777579815,
     "user": {
      "displayName": "Luca de Alfaro",
      "photoUrl": "",
      "userId": "08154392717664554862"
     },
     "user_tz": 420
    },
    "id": "Hee0NxlZ3ahm",
    "outputId": "fa336fa1-2ac2-4f7d-d128-7213342bc9fc"
   },
   "outputs": [
    {
     "name": "stdout",
     "output_type": "stream",
     "text": [
      "A fish has 0 paws\n",
      "A bird has 2 paws\n",
      "A snake has 0 paws\n",
      "A cat has 4 paws\n"
     ]
    }
   ],
   "source": [
    "# ... and on key-value pairs, via .item() : \n",
    "for k, v in n_of_paws.items():\n",
    "    print \"A\", k, \"has\", v, \"paws\""
   ]
  },
  {
   "cell_type": "code",
   "execution_count": 0,
   "metadata": {
    "colab": {
     "base_uri": "https://localhost:8080/",
     "height": 87
    },
    "colab_type": "code",
    "executionInfo": {
     "elapsed": 693,
     "status": "ok",
     "timestamp": 1538777603176,
     "user": {
      "displayName": "Luca de Alfaro",
      "photoUrl": "",
      "userId": "08154392717664554862"
     },
     "user_tz": 420
    },
    "id": "-OKmn62J9uco",
    "outputId": "0fee0945-7363-4246-bb1e-718200608520"
   },
   "outputs": [
    {
     "name": "stdout",
     "output_type": "stream",
     "text": [
      "3.0\n",
      "1.875\n",
      "1.171875\n",
      "The final result is: 0.732421875\n"
     ]
    }
   ],
   "source": [
    "# There is also a while statement, which works as usual... \n",
    "x = 3.\n",
    "while x > 1.1:\n",
    "    print x\n",
    "    x = x / 1.6\n",
    "print \"The final result is:\", x"
   ]
  },
  {
   "cell_type": "markdown",
   "metadata": {
    "colab_type": "text",
    "id": "6qkLsTK93xxF"
   },
   "source": [
    "## Functions"
   ]
  },
  {
   "cell_type": "code",
   "execution_count": 0,
   "metadata": {
    "colab": {
     "base_uri": "https://localhost:8080/",
     "height": 35
    },
    "colab_type": "code",
    "executionInfo": {
     "elapsed": 340,
     "status": "ok",
     "timestamp": 1538777623562,
     "user": {
      "displayName": "Luca de Alfaro",
      "photoUrl": "",
      "userId": "08154392717664554862"
     },
     "user_tz": 420
    },
    "id": "zVeg_bdX3qqz",
    "outputId": "425601f9-52eb-4e8a-fc7a-35b633b71a44"
   },
   "outputs": [
    {
     "name": "stdout",
     "output_type": "stream",
     "text": [
      "4\n"
     ]
    }
   ],
   "source": [
    "def addone(x):\n",
    "    return x + 1\n",
    "\n",
    "print addone(3)"
   ]
  },
  {
   "cell_type": "code",
   "execution_count": 0,
   "metadata": {
    "colab": {},
    "colab_type": "code",
    "id": "3tb5Tjsy-rjt"
   },
   "outputs": [],
   "source": [
    "# Ok, one more argument!  Let's test our CS skill! \n",
    "def add_one_to_prod(x, y):\n",
    "    \"\"\"This function adds one to the product of x and y,\n",
    "    and this is how you are supposed to document what a \n",
    "    function does.\"\"\"\n",
    "    p = x * y\n",
    "    return p + 1"
   ]
  },
  {
   "cell_type": "code",
   "execution_count": 0,
   "metadata": {
    "colab": {
     "base_uri": "https://localhost:8080/",
     "height": 35
    },
    "colab_type": "code",
    "executionInfo": {
     "elapsed": 726,
     "status": "ok",
     "timestamp": 1538777688047,
     "user": {
      "displayName": "Luca de Alfaro",
      "photoUrl": "",
      "userId": "08154392717664554862"
     },
     "user_tz": 420
    },
    "id": "W_n5-apl_BP-",
    "outputId": "38663a26-3d33-4b1c-8aa1-95b97fd2315e"
   },
   "outputs": [
    {
     "name": "stdout",
     "output_type": "stream",
     "text": [
      "24\n"
     ]
    }
   ],
   "source": [
    "# At this point, writing the function for the factorial is compulsory.\n",
    "def factorial(n):\n",
    "    # Assertions are useful to check that the values passed to a function make sense.\n",
    "    # These assertions cause an error if not satisfied.  Try it! \n",
    "    assert type(n) is int, \"n is not an integer!\"\n",
    "    assert n > 0, \"n is not positive!\"\n",
    "    if n <= 1:\n",
    "        return 1 # Well, I am assuming\n",
    "    else:\n",
    "        return n * factorial(n - 1)\n",
    "    \n",
    "print factorial(4)"
   ]
  },
  {
   "cell_type": "code",
   "execution_count": 0,
   "metadata": {
    "colab": {
     "base_uri": "https://localhost:8080/",
     "height": 35
    },
    "colab_type": "code",
    "executionInfo": {
     "elapsed": 411,
     "status": "ok",
     "timestamp": 1538777703085,
     "user": {
      "displayName": "Luca de Alfaro",
      "photoUrl": "",
      "userId": "08154392717664554862"
     },
     "user_tz": 420
    },
    "id": "p771ic3-_dV0",
    "outputId": "5920949f-067f-4832-ca9a-528bb9487f23"
   },
   "outputs": [
    {
     "name": "stdout",
     "output_type": "stream",
     "text": [
      "18\n"
     ]
    }
   ],
   "source": [
    "# Remember the Euclid's MCD algorithm? \n",
    "# Well, I hope I do.\n",
    "def mcd(n, k):\n",
    "    assert type(n) is int and type(k) is int # I am being fussy\n",
    "    assert n >= 0 and k >= 0\n",
    "    if n < 2: # Case for 0, 1\n",
    "        return k\n",
    "    else:\n",
    "        return mcd(k % n, n)\n",
    "\n",
    "# Note that in the algorithm above, in the first call it might be the case that \n",
    "# n > k, but in all other calls, n <= k (why?).  \n",
    "\n",
    "print mcd(342, 54)"
   ]
  },
  {
   "cell_type": "code",
   "execution_count": 0,
   "metadata": {
    "colab": {
     "base_uri": "https://localhost:8080/",
     "height": 52
    },
    "colab_type": "code",
    "executionInfo": {
     "elapsed": 450,
     "status": "ok",
     "timestamp": 1538777715602,
     "user": {
      "displayName": "Luca de Alfaro",
      "photoUrl": "",
      "userId": "08154392717664554862"
     },
     "user_tz": 420
    },
    "id": "GiWNWgfLAree",
    "outputId": "c90c477a-0226-48de-d0c8-809dacff25a6"
   },
   "outputs": [
    {
     "name": "stdout",
     "output_type": "stream",
     "text": [
      "7\n",
      "4\n"
     ]
    }
   ],
   "source": [
    "# One of the very nice things about Python is that functions can have \n",
    "# optional arguments, which have a default value.\n",
    "def incadd(x, d=1):\n",
    "    return x + d\n",
    "\n",
    "print incadd(3, d=4)\n",
    "print incadd(3)"
   ]
  },
  {
   "cell_type": "code",
   "execution_count": 0,
   "metadata": {
    "colab": {
     "base_uri": "https://localhost:8080/",
     "height": 52
    },
    "colab_type": "code",
    "executionInfo": {
     "elapsed": 394,
     "status": "ok",
     "timestamp": 1538777859465,
     "user": {
      "displayName": "Luca de Alfaro",
      "photoUrl": "",
      "userId": "08154392717664554862"
     },
     "user_tz": 420
    },
    "id": "GBFW-H8jBjfR",
    "outputId": "e1a3d954-125e-4520-a3a9-e21d9ac64b78"
   },
   "outputs": [
    {
     "name": "stdout",
     "output_type": "stream",
     "text": [
      "3\n",
      "9\n"
     ]
    }
   ],
   "source": [
    "# Often, the optional argument has default value None. \n",
    "# Functions, btw, can be passed around just as regular values.  \n",
    "# Let's try this.  Let us define a function g that squares a number.\n",
    "def g(x):\n",
    "    return x * x\n",
    "\n",
    "def f(x, h=None):\n",
    "    \"\"\"Adds 1 to x, then applies modifier function h if any,\n",
    "    and returns the result.\"\"\"\n",
    "    y = x + 1\n",
    "    return y if h is None else h(y)\n",
    "\n",
    "print f(2)\n",
    "print f(2, h=g)"
   ]
  },
  {
   "cell_type": "markdown",
   "metadata": {
    "colab_type": "text",
    "id": "vDyUpa7_L54U"
   },
   "source": [
    "## Importing modules"
   ]
  },
  {
   "cell_type": "code",
   "execution_count": 0,
   "metadata": {
    "colab": {
     "base_uri": "https://localhost:8080/",
     "height": 35
    },
    "colab_type": "code",
    "executionInfo": {
     "elapsed": 410,
     "status": "ok",
     "timestamp": 1538778070694,
     "user": {
      "displayName": "Luca de Alfaro",
      "photoUrl": "",
      "userId": "08154392717664554862"
     },
     "user_tz": 420
    },
    "id": "5wYw6n_5L98R",
    "outputId": "c62b5de6-acbe-4fa6-d409-bcd5b2c15985"
   },
   "outputs": [
    {
     "name": "stdout",
     "output_type": "stream",
     "text": [
      "1.73205080757\n"
     ]
    }
   ],
   "source": [
    "# Python libraries are organized in modules. \n",
    "# You need to import them before using them. \n",
    "import math\n",
    "print math.sqrt(3.)"
   ]
  },
  {
   "cell_type": "code",
   "execution_count": 0,
   "metadata": {
    "colab": {
     "base_uri": "https://localhost:8080/",
     "height": 35
    },
    "colab_type": "code",
    "executionInfo": {
     "elapsed": 358,
     "status": "ok",
     "timestamp": 1538778077191,
     "user": {
      "displayName": "Luca de Alfaro",
      "photoUrl": "",
      "userId": "08154392717664554862"
     },
     "user_tz": 420
    },
    "id": "ptW6o8nZMI3v",
    "outputId": "7f080a09-b7c6-45a2-88cb-9875144cb285"
   },
   "outputs": [
    {
     "name": "stdout",
     "output_type": "stream",
     "text": [
      "1.41421356237\n"
     ]
    }
   ],
   "source": [
    "# If you like, you can also import individual functions from libraries.\n",
    "from math import sqrt as square_root\n",
    "print square_root(2.)"
   ]
  },
  {
   "cell_type": "code",
   "execution_count": 0,
   "metadata": {
    "colab": {},
    "colab_type": "code",
    "id": "ureSKSFMMXtX"
   },
   "outputs": [],
   "source": [
    "# If you have a file myfile.py in the current directory, defining a function f,\n",
    "# you can import it and use f like this: \n",
    "# import myfile\n",
    "# y = myfile.f(x)\n"
   ]
  },
  {
   "cell_type": "code",
   "execution_count": 0,
   "metadata": {
    "colab": {},
    "colab_type": "code",
    "id": "rfrbB8AYMrMk"
   },
   "outputs": [],
   "source": [
    "# If myfile is in a subdirectory foo of the current directory, \n",
    "# and if foo contains both myfile.py and __init__.py (the latter\n",
    "# can be empty, but must exist), then you can do: \n",
    "# import foo.myfile\n",
    "# y = myfile.f(x)"
   ]
  },
  {
   "cell_type": "markdown",
   "metadata": {
    "colab_type": "text",
    "id": "v3CGE72REsXJ"
   },
   "source": [
    "## Classes"
   ]
  },
  {
   "cell_type": "code",
   "execution_count": 0,
   "metadata": {
    "colab": {},
    "colab_type": "code",
    "id": "QkYwW8lIEc1M"
   },
   "outputs": [],
   "source": [
    "# Here is a simple standard class.\n",
    "class Product(object):\n",
    "    \n",
    "    def __init__(self, name, price=0., quantity=0):\n",
    "        \"\"\"In the initializer, you should define the values that each object\n",
    "        has.  Here, 'self' means, the object.\"\"\"\n",
    "        self.name = name \n",
    "        self.price = price\n",
    "        self.quantity = quantity\n",
    "        \n",
    "    def __repr__(self):\n",
    "        \"\"\"Represents a class element in a reasonable way.\n",
    "        Note the format statement below to help produce a string.\"\"\"\n",
    "        return \"Hello, I am a {} and cost ${}; you have {} of me\".format(\n",
    "            self.name, self.price, self.quantity\n",
    "        )\n",
    "            \n",
    "    \n",
    "    def inflation(self, x):\n",
    "        \"\"\"Increases the price by a factor x.\n",
    "        Note how self is always the first argument of methods; otherwise,\n",
    "        you would not know to which object to apply the operations.\"\"\"\n",
    "        self.price *= x\n",
    "        \n",
    "    def value(self):\n",
    "        \"\"\"Total value of products of this type.\"\"\"\n",
    "        return self.price * self.quantity\n",
    "        "
   ]
  },
  {
   "cell_type": "code",
   "execution_count": 0,
   "metadata": {
    "colab": {},
    "colab_type": "code",
    "id": "Vjif1xPIOn3L"
   },
   "outputs": [],
   "source": [
    "# Let's make a list of products.\n",
    "cart = [\n",
    "    Product('Pear', price=1.99, quantity=10),\n",
    "    Product('Apple', price=0.99, quantity=15),\n",
    "    Product('Onion', price=1.49, quantity=57)\n",
    "]"
   ]
  },
  {
   "cell_type": "code",
   "execution_count": 0,
   "metadata": {
    "colab": {
     "base_uri": "https://localhost:8080/",
     "height": 69
    },
    "colab_type": "code",
    "executionInfo": {
     "elapsed": 351,
     "status": "ok",
     "timestamp": 1538693058502,
     "user": {
      "displayName": "Luca de Alfaro",
      "photoUrl": "",
      "userId": "08154392717664554862"
     },
     "user_tz": 420
    },
    "id": "A-np4oPXOmzG",
    "outputId": "9a538134-be5b-4eb7-e608-83e5f10baf1c"
   },
   "outputs": [
    {
     "name": "stdout",
     "output_type": "stream",
     "text": [
      "Hello, I am a Pear and cost $1.99; you have 10 of me\n",
      "Hello, I am a Apple and cost $0.99; you have 15 of me\n",
      "Hello, I am a Onion and cost $1.49; you have 57 of me\n"
     ]
    }
   ],
   "source": [
    "# We can print it; the representation is given by __repr__. \n",
    "for p in cart:\n",
    "    print p"
   ]
  },
  {
   "cell_type": "code",
   "execution_count": 0,
   "metadata": {
    "colab": {
     "base_uri": "https://localhost:8080/",
     "height": 69
    },
    "colab_type": "code",
    "executionInfo": {
     "elapsed": 407,
     "status": "ok",
     "timestamp": 1538693060747,
     "user": {
      "displayName": "Luca de Alfaro",
      "photoUrl": "",
      "userId": "08154392717664554862"
     },
     "user_tz": 420
    },
    "id": "bqSkhbxMPYkz",
    "outputId": "075fb271-b837-425c-9f9c-d9f0f33ff3c2"
   },
   "outputs": [
    {
     "name": "stdout",
     "output_type": "stream",
     "text": [
      "Hello, I am a Pear and cost $1.99; you have 20 of me\n",
      "Hello, I am a Apple and cost $0.99; you have 30 of me\n",
      "Hello, I am a Onion and cost $1.49; you have 114 of me\n"
     ]
    }
   ],
   "source": [
    "# What if you buy more apples?  \n",
    "# The proper way would be to define a buy method, and write \n",
    "# something like p.buy(10) to buy 10 more.  But in Python, there is \n",
    "# nothing to prevent you from accessing object variables directly.\n",
    "\n",
    "def double_the_cart(c):\n",
    "    for p in c:\n",
    "        p.quantity *= 2\n",
    "        \n",
    "double_the_cart(cart)\n",
    "\n",
    "def print_cart(c):\n",
    "    for p in c:\n",
    "        print p\n",
    "        \n",
    "print_cart(cart)"
   ]
  },
  {
   "cell_type": "markdown",
   "metadata": {
    "colab_type": "text",
    "id": "GiIDiPF-QqeS"
   },
   "source": [
    "## A simple event-based simulator"
   ]
  },
  {
   "cell_type": "markdown",
   "metadata": {
    "colab_type": "text",
    "id": "VXPul2nYSEjT"
   },
   "source": [
    "Let's try to put everything together and design a simple event-based simulator. \n",
    "\n",
    "Every event will have a time at which it happens.  When it happens, it will generate two things: a string that is printed, and a list (possibly empty) of subsequent events. \n",
    "\n",
    "Let us write the code for three event types: one that occurs only once, one that occurs periodically with a certain delay between occurrences forever, and one that occurs periodically, but has a specified maximum number of occurrences."
   ]
  },
  {
   "cell_type": "code",
   "execution_count": 0,
   "metadata": {
    "colab": {},
    "colab_type": "code",
    "id": "ZyGOQoslhva5"
   },
   "outputs": [],
   "source": [
    "# Before we do it, we have to remedy one of the few silly \n",
    "# choices in the design of Python.\n",
    "# There is apparently no sign function! \n",
    "# This is so silly that I can't resist defining one. \n",
    "def sign(x):\n",
    "    if x < 0:\n",
    "        return -1\n",
    "    elif x > 0:\n",
    "        return 1\n",
    "    else:\n",
    "        return 0"
   ]
  },
  {
   "cell_type": "code",
   "execution_count": 0,
   "metadata": {
    "colab": {
     "base_uri": "https://localhost:8080/",
     "height": 55
    },
    "colab_type": "code",
    "executionInfo": {
     "elapsed": 525,
     "status": "ok",
     "timestamp": 1538779176111,
     "user": {
      "displayName": "Luca de Alfaro",
      "photoUrl": "",
      "userId": "08154392717664554862"
     },
     "user_tz": 420
    },
    "id": "R6NcNyN-Qpda",
    "outputId": "e66e61cb-f678-433a-9d38-e8e9d0b04d55"
   },
   "outputs": [
    {
     "name": "stdout",
     "output_type": "stream",
     "text": [
      "Event Sun shines of type <class '__main__.GenericEvent'> will occurr at 2018-10-05T23:39:35.213471\n"
     ]
    }
   ],
   "source": [
    "class GenericEvent(object):\n",
    "    \n",
    "    def __init__(self, name, time):\n",
    "        self.name = name\n",
    "        self.time = time\n",
    "        \n",
    "    def __repr__(self):\n",
    "        return \"Event {} of type {} will occurr at {}\".format(\n",
    "            self.name,\n",
    "            type(self),\n",
    "            self.time.isoformat()\n",
    "        )\n",
    "    \n",
    "    def __cmp__(self, other):\n",
    "        \"\"\"To sort events according to their time, we need to \n",
    "        implement the __cmp__ operator; \n",
    "        see https://docs.python.org/2/reference/datamodel.html for more details.\"\"\"\n",
    "        return sign((self.time - other.time).total_seconds())\n",
    "    \n",
    "    def _effect(self):\n",
    "        \"\"\"In Python, methods that are supposed to be accessed only within\n",
    "        the class are prepended with _.  Note that this is just a convention;\n",
    "        nothing prevents you from calling these methods from outside the class.\n",
    "        \"\"\"\n",
    "        print \"At {}: {}\".format(self.time.isoformat(), self.name)\n",
    "        \n",
    "    def do(self):\n",
    "        \"\"\"You are supposed to define what happens in each subclass.\"\"\"\n",
    "        raise NotImplementedError\n",
    "        \n",
    "# We need the datetime module to process times.\n",
    "import datetime\n",
    "e = GenericEvent('Sun shines', datetime.datetime.now() + datetime.timedelta(hours=1))\n",
    "print e"
   ]
  },
  {
   "cell_type": "code",
   "execution_count": 0,
   "metadata": {
    "colab": {},
    "colab_type": "code",
    "id": "GOn2kj8OTlgG"
   },
   "outputs": [],
   "source": [
    "# Ok.  Now let's define an event that happens once only.\n",
    "class OnceOnlyEvent(GenericEvent):\n",
    "    \"\"\"OnceOnlyEvent extends GenericEvent, and so it inherits all of its\n",
    "    methods, including __repr__, __comp__, _effect.\"\"\"\n",
    "    \n",
    "    def __init__(self, name, time):\n",
    "        # We simply define an element of the superclass.\n",
    "        # Here, super(OnceOnlyEvent, self) is the Python way for getting\n",
    "        # access to the superclass methods from a subclass. \n",
    "        super(OnceOnlyEvent, self).__init__(name, time)\n",
    "        \n",
    "    def do(self):\n",
    "        self._effect()\n",
    "        # No other events are generated.\n",
    "        return []"
   ]
  },
  {
   "cell_type": "code",
   "execution_count": 0,
   "metadata": {
    "colab": {},
    "colab_type": "code",
    "id": "oU9pf8fwU9Gx"
   },
   "outputs": [],
   "source": [
    "class InfinitePeriodicEvent(GenericEvent):\n",
    "    \"\"\"This is a periodic event.\"\"\"\n",
    "    \n",
    "    def __init__(self, name, time, periodicity):\n",
    "        \"\"\"time is a datetime object; periodicity is expressed as a timedelta object.\"\"\"\n",
    "        super(InfinitePeriodicEvent, self).__init__(name, time)\n",
    "        self.periodicity = periodicity\n",
    "        \n",
    "    def do(self):\n",
    "        self._effect()\n",
    "        # Generates and returns the next occurrence of the event.\n",
    "        next_event = PeriodicEvent(\n",
    "            self.name, \n",
    "            self.time + self.periodicity,\n",
    "            self.periodicity\n",
    "        )\n",
    "        return [next_event]\n",
    "        \n",
    "        "
   ]
  },
  {
   "cell_type": "code",
   "execution_count": 0,
   "metadata": {
    "colab": {},
    "colab_type": "code",
    "id": "JBDmQKy_WGiq"
   },
   "outputs": [],
   "source": [
    "class PeriodicEvent(GenericEvent):\n",
    "    \"\"\"This is a periodic event like above, except that it has\n",
    "    an optional maximum number of occurrences.\"\"\"\n",
    "    \n",
    "    def __init__(self, name, time, periodicity, num_occurrences=None):\n",
    "        \"\"\"\n",
    "        Let's document this constructor a bit better.\n",
    "        @param name: name of the event.\n",
    "        @param time: time of first occurrence of the event (datetime object).\n",
    "        @param periodicity: periodicity of the event (timedelta object).\n",
    "        @param num_occurrences: number of future occurrences of the event.\n",
    "            If None, then infinite future occurrences can happen.\n",
    "        \n",
    "        \"\"\"\n",
    "        assert num_occurrences is None or num_occurrences > 0\n",
    "        # We don't want to go back in time!\n",
    "        assert periodicity.total_seconds() > 0.\n",
    "        super(PeriodicEvent, self).__init__(name, time)\n",
    "        self.periodicity = periodicity\n",
    "        self.num_occurrences = num_occurrences\n",
    "        \n",
    "    def do(self):\n",
    "        self._effect()\n",
    "        # Generates and returns the next occurrence of the event.\n",
    "        if self.num_occurrences is None or self.num_occurrences > 1:\n",
    "            return [PeriodicEvent(\n",
    "                self.name, \n",
    "                self.time + self.periodicity,\n",
    "                self.periodicity,\n",
    "                num_occurrences = None if self.num_occurrences is None \n",
    "                                  else self.num_occurrences - 1\n",
    "            )]\n",
    "        else:\n",
    "            return []\n"
   ]
  },
  {
   "cell_type": "markdown",
   "metadata": {
    "colab_type": "text",
    "id": "paW7emunYCI8"
   },
   "source": [
    "Great.  Now, let's define our discrete event simulator.  It will be a class, have a method to add new events to it, and it will have a method step(), which causes the next event to occur. \n",
    "\n",
    "In order to quickly determine which one is the next event, \n",
    "we will store events in a priority queue.  This is implemented via the heapq module, whose documentation is at https://docs.python.org/2/library/heapq.html"
   ]
  },
  {
   "cell_type": "code",
   "execution_count": 0,
   "metadata": {
    "colab": {},
    "colab_type": "code",
    "id": "QMKRcWMOX3dY"
   },
   "outputs": [],
   "source": [
    "import heapq # Implementation of a priority queue in Python.\n",
    "\n",
    "class EventSimulator(object):\n",
    "    \n",
    "    def __init__(self, event_list=[]):\n",
    "        self.event_heap = event_list\n",
    "        # We transform the event list into a heap.\n",
    "        heapq.heapify(self.event_heap)\n",
    "        \n",
    "    def add_event(self, e):\n",
    "        \"\"\"Adds an event e, maintaining the heap invariant.\"\"\"\n",
    "        heapq.heappush(self.event_heap, e)\n",
    "        \n",
    "    def step(self):\n",
    "        \"\"\"Performs one step of the event simulator.\"\"\"\n",
    "        # Gets the first event.\n",
    "        e = heapq.heappop(self.event_heap)\n",
    "        # Causes e to happen.\n",
    "        generated_events = e.do()\n",
    "        # And inserts the resulting events into the heap of future events.\n",
    "        for ge in generated_events:\n",
    "            self.add_event(ge)"
   ]
  },
  {
   "cell_type": "code",
   "execution_count": 0,
   "metadata": {
    "colab": {},
    "colab_type": "code",
    "id": "-Va0ZFeOcnvy"
   },
   "outputs": [],
   "source": [
    "# That's all there is to it.  Now let's try how it works.\n",
    "# We generate a couple of events that happen only once: \n",
    "now = datetime.datetime.now()\n",
    "ten_secs = datetime.timedelta(seconds=10)\n",
    "twentyfive_secs = datetime.timedelta(seconds=25)\n",
    "\n",
    "once1 = OnceOnlyEvent(\"once1\", now + ten_secs)\n",
    "once2 = OnceOnlyEvent(\"once2\", now + twentyfive_secs)"
   ]
  },
  {
   "cell_type": "code",
   "execution_count": 0,
   "metadata": {
    "colab": {},
    "colab_type": "code",
    "id": "Ebb1lJlAdPdj"
   },
   "outputs": [],
   "source": [
    "# Let's also define two periodic events, one with 3 occurrences,\n",
    "# the other with infinite occurrences.\n",
    "two_secs = datetime.timedelta(seconds=2)\n",
    "three_secs = datetime.timedelta(seconds=3)\n",
    "\n",
    "periodic1 = PeriodicEvent(\"periodic1\", now + ten_secs, two_secs, num_occurrences=3)\n",
    "periodic2 = PeriodicEvent(\"periodic2\", now + twentyfive_secs, three_secs)\n"
   ]
  },
  {
   "cell_type": "code",
   "execution_count": 0,
   "metadata": {
    "colab": {},
    "colab_type": "code",
    "id": "njwkT706eXLm"
   },
   "outputs": [],
   "source": [
    "# Let's create our event simulator. \n",
    "sim = EventSimulator([once1, once2, periodic1, periodic2])"
   ]
  },
  {
   "cell_type": "code",
   "execution_count": 0,
   "metadata": {
    "colab": {
     "base_uri": "https://localhost:8080/",
     "height": 35
    },
    "colab_type": "code",
    "executionInfo": {
     "elapsed": 471,
     "status": "ok",
     "timestamp": 1538779241602,
     "user": {
      "displayName": "Luca de Alfaro",
      "photoUrl": "",
      "userId": "08154392717664554862"
     },
     "user_tz": 420
    },
    "id": "LsjIFxY-g3P7",
    "outputId": "5ec2ce48-4bee-4a86-e063-6c7916ecb7f9"
   },
   "outputs": [
    {
     "name": "stdout",
     "output_type": "stream",
     "text": [
      "At 2018-10-05T22:40:15.756898: periodic1\n"
     ]
    }
   ],
   "source": [
    "sim.step()"
   ]
  },
  {
   "cell_type": "code",
   "execution_count": 0,
   "metadata": {
    "colab": {
     "base_uri": "https://localhost:8080/",
     "height": 55
    },
    "colab_type": "code",
    "executionInfo": {
     "elapsed": 445,
     "status": "ok",
     "timestamp": 1538779250672,
     "user": {
      "displayName": "Luca de Alfaro",
      "photoUrl": "",
      "userId": "08154392717664554862"
     },
     "user_tz": 420
    },
    "id": "JuNMeyDYiNFs",
    "outputId": "919363f1-2969-493e-d993-e8426615a32f"
   },
   "outputs": [
    {
     "name": "stdout",
     "output_type": "stream",
     "text": [
      "[Event once1 of type <class '__main__.OnceOnlyEvent'> will occurr at 2018-10-05T22:40:15.756898, Event periodic1 of type <class '__main__.PeriodicEvent'> will occurr at 2018-10-05T22:40:17.756898, Event once2 of type <class '__main__.OnceOnlyEvent'> will occurr at 2018-10-05T22:40:30.756898, Event periodic2 of type <class '__main__.PeriodicEvent'> will occurr at 2018-10-05T22:40:30.756898]\n"
     ]
    }
   ],
   "source": [
    "# What's in the event queue? \n",
    "print sim.event_heap"
   ]
  },
  {
   "cell_type": "code",
   "execution_count": 0,
   "metadata": {
    "colab": {
     "base_uri": "https://localhost:8080/",
     "height": 401
    },
    "colab_type": "code",
    "executionInfo": {
     "elapsed": 380,
     "status": "ok",
     "timestamp": 1538779266158,
     "user": {
      "displayName": "Luca de Alfaro",
      "photoUrl": "",
      "userId": "08154392717664554862"
     },
     "user_tz": 420
    },
    "id": "SpxS_5SYioUv",
    "outputId": "27c8d7d4-c8b3-4e51-9c6c-1863778ac5a1"
   },
   "outputs": [
    {
     "name": "stdout",
     "output_type": "stream",
     "text": [
      "At 2018-10-05T22:40:15.756898: once1\n",
      "At 2018-10-05T22:40:17.756898: periodic1\n",
      "At 2018-10-05T22:40:19.756898: periodic1\n",
      "At 2018-10-05T22:40:30.756898: once2\n",
      "At 2018-10-05T22:40:30.756898: periodic2\n",
      "At 2018-10-05T22:40:33.756898: periodic2\n",
      "At 2018-10-05T22:40:36.756898: periodic2\n",
      "At 2018-10-05T22:40:39.756898: periodic2\n",
      "At 2018-10-05T22:40:42.756898: periodic2\n",
      "At 2018-10-05T22:40:45.756898: periodic2\n",
      "At 2018-10-05T22:40:48.756898: periodic2\n",
      "At 2018-10-05T22:40:51.756898: periodic2\n",
      "At 2018-10-05T22:40:54.756898: periodic2\n",
      "At 2018-10-05T22:40:57.756898: periodic2\n",
      "At 2018-10-05T22:41:00.756898: periodic2\n",
      "At 2018-10-05T22:41:03.756898: periodic2\n",
      "At 2018-10-05T22:41:06.756898: periodic2\n",
      "At 2018-10-05T22:41:09.756898: periodic2\n",
      "At 2018-10-05T22:41:12.756898: periodic2\n",
      "At 2018-10-05T22:41:15.756898: periodic2\n",
      "[Event periodic2 of type <class '__main__.PeriodicEvent'> will occurr at 2018-10-05T22:41:18.756898]\n"
     ]
    }
   ],
   "source": [
    "# Let's do 20 steps now.\n",
    "for _ in range(20):\n",
    "    sim.step()\n",
    "print sim.event_heap"
   ]
  },
  {
   "cell_type": "markdown",
   "metadata": {
    "colab_type": "text",
    "id": "GhXCeYkojMl9"
   },
   "source": [
    "*That's All, Folks!*"
   ]
  }
 ],
 "metadata": {
  "colab": {
   "collapsed_sections": [],
   "name": "Copy of Introduction to Python 2.7.ipynb",
   "provenance": [
    {
     "file_id": "1eaO-oUwfOh7DysGI_8HkXI5Bdi7DzSPt",
     "timestamp": 1546068563503
    }
   ],
   "version": "0.3.2"
  },
  "kernelspec": {
   "display_name": "Python 2",
   "language": "python",
   "name": "python2"
  },
  "language_info": {
   "codemirror_mode": {
    "name": "ipython",
    "version": 2
   },
   "file_extension": ".py",
   "mimetype": "text/x-python",
   "name": "python",
   "nbconvert_exporter": "python",
   "pygments_lexer": "ipython2",
   "version": "2.7.15rc1"
  }
 },
 "nbformat": 4,
 "nbformat_minor": 1
}
