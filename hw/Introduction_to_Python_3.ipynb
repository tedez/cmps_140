{
  "nbformat": 4,
  "nbformat_minor": 0,
  "metadata": {
    "colab": {
      "name": "Introduction_to_Python_3.ipynb",
      "version": "0.3.2",
      "provenance": [],
      "collapsed_sections": []
    },
    "kernelspec": {
      "name": "python3",
      "display_name": "Python 3"
    }
  },
  "cells": [
    {
      "metadata": {
        "id": "1Ycy34VcX4lu",
        "colab_type": "text"
      },
      "cell_type": "markdown",
      "source": [
        "# Introduction to Python\n",
        "## Luca de Alfaro\n",
        "Copyright Luca de Alfaro, 2018.  BSD License."
      ]
    },
    {
      "metadata": {
        "id": "X5VBxq824B5P",
        "colab_type": "text"
      },
      "cell_type": "markdown",
      "source": [
        "**Do you know** that you can make a copy of this notebook and play with it?  Just click on \"File > Save as a copy in Drive\" and then go play with your own copy!  Learn notebooks, it's worth it! "
      ]
    },
    {
      "metadata": {
        "id": "0ZEC4V3pjalH",
        "colab_type": "text"
      },
      "cell_type": "markdown",
      "source": [
        "## Integers, floats, strings, booleans, and ... None!"
      ]
    },
    {
      "metadata": {
        "id": "9DzUH9EWXmvR",
        "colab_type": "code",
        "colab": {}
      },
      "cell_type": "code",
      "source": [
        "# In python there are numbers, which can be integer or float. \n",
        "x = 1 # int\n",
        "y = 1. # float"
      ],
      "execution_count": 0,
      "outputs": []
    },
    {
      "metadata": {
        "id": "1ypAUKH8YfAN",
        "colab_type": "code",
        "outputId": "eae9f124-8fc6-43f5-bb88-451f40127f2e",
        "colab": {
          "base_uri": "https://localhost:8080/",
          "height": 34
        }
      },
      "cell_type": "code",
      "source": [
        "# In Python 2.7, division between integers generates an integer.\n",
        "x / 2"
      ],
      "execution_count": 595,
      "outputs": [
        {
          "output_type": "execute_result",
          "data": {
            "text/plain": [
              "0.5"
            ]
          },
          "metadata": {
            "tags": []
          },
          "execution_count": 595
        }
      ]
    },
    {
      "metadata": {
        "id": "57jLfJpzYqH5",
        "colab_type": "code",
        "outputId": "d4f34cda-5b91-483d-f689-cce41c9ab2b2",
        "colab": {
          "base_uri": "https://localhost:8080/",
          "height": 34
        }
      },
      "cell_type": "code",
      "source": [
        "# While if at least an argument is float, you get a float. \n",
        "y / 2"
      ],
      "execution_count": 596,
      "outputs": [
        {
          "output_type": "execute_result",
          "data": {
            "text/plain": [
              "0.5"
            ]
          },
          "metadata": {
            "tags": []
          },
          "execution_count": 596
        }
      ]
    },
    {
      "metadata": {
        "id": "1jV22BHoYt8F",
        "colab_type": "code",
        "colab": {}
      },
      "cell_type": "code",
      "source": [
        "# There are also strings in Python.  They can be delimited with either \" or '.\n",
        "s = 'A string'\n",
        "t = \"It's nice to be able to choose the delimiters\""
      ],
      "execution_count": 0,
      "outputs": []
    },
    {
      "metadata": {
        "id": "V2iquQzZjGAL",
        "colab_type": "code",
        "outputId": "76da9f83-9273-4892-97df-472e3b4489e1",
        "colab": {
          "base_uri": "https://localhost:8080/",
          "height": 34
        }
      },
      "cell_type": "code",
      "source": [
        "# The other basic data type is booleans.  They are 'True' and 'False'.\n",
        "b = True\n",
        "print(not b)"
      ],
      "execution_count": 598,
      "outputs": [
        {
          "output_type": "stream",
          "text": [
            "False\n"
          ],
          "name": "stdout"
        }
      ]
    },
    {
      "metadata": {
        "id": "tYki8KdKjNUc",
        "colab_type": "code",
        "outputId": "0336115d-182f-4d6c-ae34-6e3ba11b1f96",
        "colab": {
          "base_uri": "https://localhost:8080/",
          "height": 51
        }
      },
      "cell_type": "code",
      "source": [
        "# Relational operators, obviously enough, have boolean result:\n",
        "print(4 < 8)\n",
        "print(4 == 8)"
      ],
      "execution_count": 599,
      "outputs": [
        {
          "output_type": "stream",
          "text": [
            "True\n",
            "False\n"
          ],
          "name": "stdout"
        }
      ]
    },
    {
      "metadata": {
        "id": "fJNJLuAmjoZ0",
        "colab_type": "code",
        "outputId": "139a536a-ec9f-470c-f16a-d5dcb0531c85",
        "colab": {
          "base_uri": "https://localhost:8080/",
          "height": 34
        }
      },
      "cell_type": "code",
      "source": [
        "# There's a special value in Python that means, no value.  It's called None. \n",
        "c = None\n",
        "print(c)"
      ],
      "execution_count": 600,
      "outputs": [
        {
          "output_type": "stream",
          "text": [
            "None\n"
          ],
          "name": "stdout"
        }
      ]
    },
    {
      "metadata": {
        "id": "Zy234ismjxGI",
        "colab_type": "code",
        "colab": {}
      },
      "cell_type": "code",
      "source": [
        "# I know it seems funny to have a value for denoting no value, but it turns out to be\n",
        "# incredibly useful.  In fact, many old languages suffer by not being able to express\n",
        "# the fact that something is just not there (think of C)."
      ],
      "execution_count": 0,
      "outputs": []
    },
    {
      "metadata": {
        "id": "M5UsSCiR-G1r",
        "colab_type": "code",
        "outputId": "b0a047fa-1cb4-4434-871e-b731232d3c4e",
        "colab": {
          "base_uri": "https://localhost:8080/",
          "height": 51
        }
      },
      "cell_type": "code",
      "source": [
        "# The operators +, -, *, /, can also be used with the following shorthand:\n",
        "x = 2\n",
        "x = x + 1\n",
        "x += 1 # Same as above\n",
        "print(x)\n",
        "x *= 3 # Do I need to explain this? \n",
        "print(x)"
      ],
      "execution_count": 602,
      "outputs": [
        {
          "output_type": "stream",
          "text": [
            "4\n",
            "12\n"
          ],
          "name": "stdout"
        }
      ]
    },
    {
      "metadata": {
        "id": "TA461_UgZxs7",
        "colab_type": "text"
      },
      "cell_type": "markdown",
      "source": [
        "## Lists, tuples, and dictionaries"
      ]
    },
    {
      "metadata": {
        "id": "FrOuZWcdbkyh",
        "colab_type": "text"
      },
      "cell_type": "markdown",
      "source": [
        "### Lists"
      ]
    },
    {
      "metadata": {
        "id": "_DZtN4diZ3CG",
        "colab_type": "code",
        "colab": {}
      },
      "cell_type": "code",
      "source": [
        "# Lists are one of the basic data types in Python.\n",
        "l = [1, 2, 3]"
      ],
      "execution_count": 0,
      "outputs": []
    },
    {
      "metadata": {
        "id": "nIIfkql1aShY",
        "colab_type": "code",
        "outputId": "893a9e16-0130-460d-e1e6-5206a4609ff4",
        "colab": {
          "base_uri": "https://localhost:8080/",
          "height": 51
        }
      },
      "cell_type": "code",
      "source": [
        "l2 = ['cat', 'dog', 'bird']\n",
        "print(l2[0])\n",
        "print(l2[1])"
      ],
      "execution_count": 604,
      "outputs": [
        {
          "output_type": "stream",
          "text": [
            "cat\n",
            "dog\n"
          ],
          "name": "stdout"
        }
      ]
    },
    {
      "metadata": {
        "id": "nQdmPel-abwi",
        "colab_type": "code",
        "outputId": "a9b2021f-8086-492a-d9fd-0f93bf194a3d",
        "colab": {
          "base_uri": "https://localhost:8080/",
          "height": 34
        }
      },
      "cell_type": "code",
      "source": [
        "# You can also produce a list of all integers up to some number;\n",
        "# this is very common and useful.\n",
        "print(range(12))"
      ],
      "execution_count": 605,
      "outputs": [
        {
          "output_type": "stream",
          "text": [
            "range(0, 12)\n"
          ],
          "name": "stdout"
        }
      ]
    },
    {
      "metadata": {
        "id": "Tjb1t38Maxg6",
        "colab_type": "code",
        "outputId": "6af6c072-3845-4a8f-9d61-6639cc51057c",
        "colab": {
          "base_uri": "https://localhost:8080/",
          "height": 34
        }
      },
      "cell_type": "code",
      "source": [
        "# You can 'slice' (yeah, that's a technical term) the beginnign and end of a list:\n",
        "l = ['cat', 'dog', 'bird', 'fish', 'ant', 'fly']\n",
        "print(l[:3]) # Till element 3, excluded"
      ],
      "execution_count": 606,
      "outputs": [
        {
          "output_type": "stream",
          "text": [
            "['cat', 'dog', 'bird']\n"
          ],
          "name": "stdout"
        }
      ]
    },
    {
      "metadata": {
        "id": "9NM7TvV8bH1E",
        "colab_type": "code",
        "outputId": "7ea4ea51-9553-46c8-b07a-6d6a5753fa65",
        "colab": {
          "base_uri": "https://localhost:8080/",
          "height": 34
        }
      },
      "cell_type": "code",
      "source": [
        "print(l[3:]) # From element 3"
      ],
      "execution_count": 607,
      "outputs": [
        {
          "output_type": "stream",
          "text": [
            "['fish', 'ant', 'fly']\n"
          ],
          "name": "stdout"
        }
      ]
    },
    {
      "metadata": {
        "id": "J34q3HkQbL8O",
        "colab_type": "code",
        "outputId": "b79f3db7-065c-4f9c-d2e8-d0d76056efb8",
        "colab": {
          "base_uri": "https://localhost:8080/",
          "height": 34
        }
      },
      "cell_type": "code",
      "source": [
        "print(l[1:3]) # From element 1 included, to element 3 excluded"
      ],
      "execution_count": 608,
      "outputs": [
        {
          "output_type": "stream",
          "text": [
            "['dog', 'bird']\n"
          ],
          "name": "stdout"
        }
      ]
    },
    {
      "metadata": {
        "id": "NWjv2RR6bR7D",
        "colab_type": "code",
        "outputId": "9800e439-be7a-4590-9923-35e9f7180571",
        "colab": {
          "base_uri": "https://localhost:8080/",
          "height": 34
        }
      },
      "cell_type": "code",
      "source": [
        "# If you use negative numbers, they count backwards from the end\n",
        "# of the list.  It's weird, but very useful.\n",
        "print(l[-1]) # This is the last element"
      ],
      "execution_count": 609,
      "outputs": [
        {
          "output_type": "stream",
          "text": [
            "fly\n"
          ],
          "name": "stdout"
        }
      ]
    },
    {
      "metadata": {
        "id": "ai9qdyanbbxc",
        "colab_type": "code",
        "outputId": "6b2798b5-8220-4d80-dff6-7f24d97cabc3",
        "colab": {
          "base_uri": "https://localhost:8080/",
          "height": 34
        }
      },
      "cell_type": "code",
      "source": [
        "print(l[-2:]) # From the penultimate onwards."
      ],
      "execution_count": 610,
      "outputs": [
        {
          "output_type": "stream",
          "text": [
            "['ant', 'fly']\n"
          ],
          "name": "stdout"
        }
      ]
    },
    {
      "metadata": {
        "id": "oHfOp8ZHbvby",
        "colab_type": "code",
        "outputId": "ed70489a-61b4-46f1-d84a-b278aef5a2b0",
        "colab": {
          "base_uri": "https://localhost:8080/",
          "height": 34
        }
      },
      "cell_type": "code",
      "source": [
        "# You append an element to a list like so:\n",
        "l.append('spider')\n",
        "print(l)"
      ],
      "execution_count": 611,
      "outputs": [
        {
          "output_type": "stream",
          "text": [
            "['cat', 'dog', 'bird', 'fish', 'ant', 'fly', 'spider']\n"
          ],
          "name": "stdout"
        }
      ]
    },
    {
      "metadata": {
        "id": "QR9hG_KTb4ZK",
        "colab_type": "code",
        "outputId": "f084de4e-2074-44f0-a1c5-dfa4a9c889ac",
        "colab": {
          "base_uri": "https://localhost:8080/",
          "height": 34
        }
      },
      "cell_type": "code",
      "source": [
        "# You can sum two lists.  \n",
        "print(l + [1, 2, 3])"
      ],
      "execution_count": 612,
      "outputs": [
        {
          "output_type": "stream",
          "text": [
            "['cat', 'dog', 'bird', 'fish', 'ant', 'fly', 'spider', 1, 2, 3]\n"
          ],
          "name": "stdout"
        }
      ]
    },
    {
      "metadata": {
        "id": "TvY36vE6cOfT",
        "colab_type": "code",
        "colab": {}
      },
      "cell_type": "code",
      "source": [
        "# And as you can see from above, in Python list elements don't have to be all\n",
        "# of the same type (but of course, you better know what you are doing if you\n",
        "# are mixing types)."
      ],
      "execution_count": 0,
      "outputs": []
    },
    {
      "metadata": {
        "id": "qX3ZXVoYcXt8",
        "colab_type": "code",
        "outputId": "07850d91-d69b-44ae-a15e-c760c8087abc",
        "colab": {
          "base_uri": "https://localhost:8080/",
          "height": 34
        }
      },
      "cell_type": "code",
      "source": [
        "# You can apply one operation to all elements of a list like this. \n",
        "# First, let's notice how to capitalize a string.\n",
        "print(\"dog\".upper())"
      ],
      "execution_count": 614,
      "outputs": [
        {
          "output_type": "stream",
          "text": [
            "DOG\n"
          ],
          "name": "stdout"
        }
      ]
    },
    {
      "metadata": {
        "id": "Z4F-YGjcdD8U",
        "colab_type": "code",
        "outputId": "e5a0a4d9-bef0-4ac5-c440-91df027a13df",
        "colab": {
          "base_uri": "https://localhost:8080/",
          "height": 34
        }
      },
      "cell_type": "code",
      "source": [
        "# Well, that's kind of too much. What I meant was:\n",
        "print(\"dog\".capitalize())"
      ],
      "execution_count": 615,
      "outputs": [
        {
          "output_type": "stream",
          "text": [
            "Dog\n"
          ],
          "name": "stdout"
        }
      ]
    },
    {
      "metadata": {
        "id": "6I0VvbnWdLcW",
        "colab_type": "code",
        "outputId": "ff06d890-2580-4c07-985d-aeb6a3c25b06",
        "colab": {
          "base_uri": "https://localhost:8080/",
          "height": 34
        }
      },
      "cell_type": "code",
      "source": [
        "# Ok that's better.  Now, I want to get a list like l, except with the animals capitalized.\n",
        "l_capitalized = [s.capitalize() for s in l]\n",
        "print(l_capitalized)"
      ],
      "execution_count": 616,
      "outputs": [
        {
          "output_type": "stream",
          "text": [
            "['Cat', 'Dog', 'Bird', 'Fish', 'Ant', 'Fly', 'Spider']\n"
          ],
          "name": "stdout"
        }
      ]
    },
    {
      "metadata": {
        "id": "Vbeb_TatdWcL",
        "colab_type": "code",
        "colab": {}
      },
      "cell_type": "code",
      "source": [
        "# What's going on?  Basically, in the [ ... ] we are building another list, \n",
        "# and we give the instructions on how to create each element. \n",
        "# And how do we create each element?  We iterate over the list l, \"for s in l\",\n",
        "# and for each of its elements s, we do s.capitalize(), which capitalizes the string."
      ],
      "execution_count": 0,
      "outputs": []
    },
    {
      "metadata": {
        "id": "uPz_gWlHemaf",
        "colab_type": "code",
        "outputId": "f0cf506e-b19d-4d14-8f15-fec7d2883ef8",
        "colab": {
          "base_uri": "https://localhost:8080/",
          "height": 68
        }
      },
      "cell_type": "code",
      "source": [
        "# You can get the length of a string, or a list, with the len() operator.\n",
        "print(len(l))\n",
        "print(len(l_capitalized))\n",
        "print([len(s) for s in l])"
      ],
      "execution_count": 618,
      "outputs": [
        {
          "output_type": "stream",
          "text": [
            "7\n",
            "7\n",
            "[3, 3, 4, 4, 3, 3, 6]\n"
          ],
          "name": "stdout"
        }
      ]
    },
    {
      "metadata": {
        "id": "P7-9n_PTeZEk",
        "colab_type": "text"
      },
      "cell_type": "markdown",
      "source": [
        "See https://docs.python.org/2.7/tutorial/datastructures.html for more list functions."
      ]
    },
    {
      "metadata": {
        "id": "At7-_WM6bn6A",
        "colab_type": "text"
      },
      "cell_type": "markdown",
      "source": [
        "### Tuples"
      ]
    },
    {
      "metadata": {
        "id": "7oy34EaEbrjC",
        "colab_type": "code",
        "outputId": "88fe7acf-89ce-460b-a18b-ee41a074dd74",
        "colab": {
          "base_uri": "https://localhost:8080/",
          "height": 34
        }
      },
      "cell_type": "code",
      "source": [
        "# Tuples are kind of like lists, except they are immutable.\n",
        "# Here are two points in 2-D.\n",
        "p1 = (1., 2.)\n",
        "p2 = (3.1, 3.2)\n",
        "# The useful thing with tuples is that they are easy to take apart.\n",
        "# Whereas a beginner would write\n",
        "x = p1[0]\n",
        "y = p1[1]\n",
        "print(x, y)"
      ],
      "execution_count": 619,
      "outputs": [
        {
          "output_type": "stream",
          "text": [
            "1.0 2.0\n"
          ],
          "name": "stdout"
        }
      ]
    },
    {
      "metadata": {
        "id": "0gfdrkwrfdho",
        "colab_type": "code",
        "outputId": "d531d709-c6ee-4562-c55a-29f0ca6bffd3",
        "colab": {
          "base_uri": "https://localhost:8080/",
          "height": 34
        }
      },
      "cell_type": "code",
      "source": [
        "# anyone with a bit of Python experience would instead write: \n",
        "x, y = p1\n",
        "print(x, y)"
      ],
      "execution_count": 620,
      "outputs": [
        {
          "output_type": "stream",
          "text": [
            "1.0 2.0\n"
          ],
          "name": "stdout"
        }
      ]
    },
    {
      "metadata": {
        "id": "W4loQJ6eflCt",
        "colab_type": "code",
        "outputId": "e7ef5fee-8520-4a75-d19e-f8055fe58cc1",
        "colab": {
          "base_uri": "https://localhost:8080/",
          "height": 102
        }
      },
      "cell_type": "code",
      "source": [
        "# Of course, the above works only if the tuple of variables on the left hand side\n",
        "# is the same length as the tuple on the right hand side!\n",
        "import traceback\n",
        "try:\n",
        "    x, y, z = p2\n",
        "except:\n",
        "    print(traceback.format_exc())"
      ],
      "execution_count": 621,
      "outputs": [
        {
          "output_type": "stream",
          "text": [
            "Traceback (most recent call last):\n",
            "  File \"<ipython-input-621-023e370181fb>\", line 3, in <module>\n",
            "    x, y, z = p2\n",
            "ValueError: not enough values to unpack (expected 3, got 2)\n",
            "\n"
          ],
          "name": "stdout"
        }
      ]
    },
    {
      "metadata": {
        "id": "K9VOU24Xfw9G",
        "colab_type": "code",
        "outputId": "01ede2dc-5f04-402d-ee4c-4f56d6a86daf",
        "colab": {
          "base_uri": "https://localhost:8080/",
          "height": 34
        }
      },
      "cell_type": "code",
      "source": [
        "# If you don't care about a component, you can just use _\n",
        "x, _ = p1\n",
        "print(x)"
      ],
      "execution_count": 622,
      "outputs": [
        {
          "output_type": "stream",
          "text": [
            "1.0\n"
          ],
          "name": "stdout"
        }
      ]
    },
    {
      "metadata": {
        "id": "xFAS-L5uZtff",
        "colab_type": "text"
      },
      "cell_type": "markdown",
      "source": [
        "## String operations"
      ]
    },
    {
      "metadata": {
        "id": "2zNELDI6Y4bi",
        "colab_type": "code",
        "outputId": "b1ee29a2-ba32-4aa6-9fcf-14c41a0b55a2",
        "colab": {
          "base_uri": "https://localhost:8080/",
          "height": 34
        }
      },
      "cell_type": "code",
      "source": [
        "# Strings can be split according to a delimiter (space is the default),\n",
        "# and also be put back together. \n",
        "s = 'A string'\n",
        "t = \"It's nice to be able to choose the delimiters\"\n",
        "\n",
        "print(s + \" \" + t)"
      ],
      "execution_count": 623,
      "outputs": [
        {
          "output_type": "stream",
          "text": [
            "A string It's nice to be able to choose the delimiters\n"
          ],
          "name": "stdout"
        }
      ]
    },
    {
      "metadata": {
        "id": "h0vkoGrTZir7",
        "colab_type": "code",
        "outputId": "deaabc4b-05c7-4e9a-b70e-85d6059465d8",
        "colab": {
          "base_uri": "https://localhost:8080/",
          "height": 34
        }
      },
      "cell_type": "code",
      "source": [
        "print(t.split())"
      ],
      "execution_count": 624,
      "outputs": [
        {
          "output_type": "stream",
          "text": [
            "[\"It's\", 'nice', 'to', 'be', 'able', 'to', 'choose', 'the', 'delimiters']\n"
          ],
          "name": "stdout"
        }
      ]
    },
    {
      "metadata": {
        "id": "uKE_8q0sZnvr",
        "colab_type": "code",
        "outputId": "7c169f5c-6802-4bd4-9f8d-feac4616f683",
        "colab": {
          "base_uri": "https://localhost:8080/",
          "height": 34
        }
      },
      "cell_type": "code",
      "source": [
        "print(t.split('a'))"
      ],
      "execution_count": 625,
      "outputs": [
        {
          "output_type": "stream",
          "text": [
            "[\"It's nice to be \", 'ble to choose the delimiters']\n"
          ],
          "name": "stdout"
        }
      ]
    },
    {
      "metadata": {
        "id": "dJ5gjcRHgnPh",
        "colab_type": "code",
        "outputId": "d69b5f42-a663-4ade-85c7-6f1bf19b4afd",
        "colab": {
          "base_uri": "https://localhost:8080/",
          "height": 34
        }
      },
      "cell_type": "code",
      "source": [
        "# A string can also be addressed as if it were a list of its characters.\n",
        "print(t[10:])"
      ],
      "execution_count": 626,
      "outputs": [
        {
          "output_type": "stream",
          "text": [
            "to be able to choose the delimiters\n"
          ],
          "name": "stdout"
        }
      ]
    },
    {
      "metadata": {
        "id": "IyTNBT8sh-UE",
        "colab_type": "text"
      },
      "cell_type": "markdown",
      "source": [
        "## Dictionaries"
      ]
    },
    {
      "metadata": {
        "id": "MQXjLViBgx7T",
        "colab_type": "code",
        "colab": {}
      },
      "cell_type": "code",
      "source": [
        "# Dictionaries in Python are essentially maps between sets, or, one-to-many functions. \n",
        "# Or if you are in CS, they are like hash tables.  In fact, turns out they are hash tables.\n",
        "# Except you don't need to worry about their implementation. \n",
        "# Enough said, let's define one.\n",
        "n_of_paws = {'cat': 4, 'fish': 0, 'bird': 2, 'snake': 0}"
      ],
      "execution_count": 0,
      "outputs": []
    },
    {
      "metadata": {
        "id": "xyz8v8q2ieNJ",
        "colab_type": "code",
        "outputId": "c5ddcc62-051a-400f-ba5d-84f8c3fca887",
        "colab": {
          "base_uri": "https://localhost:8080/",
          "height": 34
        }
      },
      "cell_type": "code",
      "source": [
        "# You can ask for the list of keys of a dictionary:\n",
        "print(n_of_paws.keys())"
      ],
      "execution_count": 628,
      "outputs": [
        {
          "output_type": "stream",
          "text": [
            "dict_keys(['cat', 'fish', 'bird', 'snake'])\n"
          ],
          "name": "stdout"
        }
      ]
    },
    {
      "metadata": {
        "id": "mjnGwK4lijCi",
        "colab_type": "code",
        "outputId": "ace35119-3ebf-4157-d3fc-b7b67a91bb45",
        "colab": {
          "base_uri": "https://localhost:8080/",
          "height": 34
        }
      },
      "cell_type": "code",
      "source": [
        "# and for the list of values (this tends to be less useful):\n",
        "print(n_of_paws.values())"
      ],
      "execution_count": 629,
      "outputs": [
        {
          "output_type": "stream",
          "text": [
            "dict_values([4, 0, 2, 0])\n"
          ],
          "name": "stdout"
        }
      ]
    },
    {
      "metadata": {
        "id": "ectytnryiq3f",
        "colab_type": "code",
        "outputId": "e98b0c55-51e8-4dae-f212-d0ae67c97f11",
        "colab": {
          "base_uri": "https://localhost:8080/",
          "height": 34
        }
      },
      "cell_type": "code",
      "source": [
        "# Much more useful is to have the list of (key, value) pairs.\n",
        "# It's a list of tuples, in case you are wondering.\n",
        "print(n_of_paws.items())"
      ],
      "execution_count": 630,
      "outputs": [
        {
          "output_type": "stream",
          "text": [
            "dict_items([('cat', 4), ('fish', 0), ('bird', 2), ('snake', 0)])\n"
          ],
          "name": "stdout"
        }
      ]
    },
    {
      "metadata": {
        "id": "cQmzw2CwiTP-",
        "colab_type": "code",
        "outputId": "c98d3800-bb53-4def-dc26-eba0471fec66",
        "colab": {
          "base_uri": "https://localhost:8080/",
          "height": 34
        }
      },
      "cell_type": "code",
      "source": [
        "# Dictionaries can be indexed with [] notation like list indexing, \n",
        "# except they are indexed by their \"keys\", not by integers.\n",
        "print(n_of_paws['fish'])"
      ],
      "execution_count": 631,
      "outputs": [
        {
          "output_type": "stream",
          "text": [
            "0\n"
          ],
          "name": "stdout"
        }
      ]
    },
    {
      "metadata": {
        "id": "yFPoZI56i4w7",
        "colab_type": "code",
        "outputId": "8136a66a-e2fb-4af1-f487-2156cd02aa72",
        "colab": {
          "base_uri": "https://localhost:8080/",
          "height": 51
        }
      },
      "cell_type": "code",
      "source": [
        "# You can check whehter something is in a dictionary with the 'in' operator:\n",
        "print(\"elephant\" in n_of_paws)\n",
        "print(\"cat\" in n_of_paws)"
      ],
      "execution_count": 632,
      "outputs": [
        {
          "output_type": "stream",
          "text": [
            "False\n",
            "True\n"
          ],
          "name": "stdout"
        }
      ]
    },
    {
      "metadata": {
        "id": "BL4F480njCHe",
        "colab_type": "code",
        "outputId": "33915021-7b97-4ebf-c9bc-35cd4b32772c",
        "colab": {
          "base_uri": "https://localhost:8080/",
          "height": 51
        }
      },
      "cell_type": "code",
      "source": [
        "# If you are not sure whether a key is in the dictionary, you can use .get() \n",
        "# rather than []:\n",
        "print(n_of_paws.get('fish'))\n",
        "print(n_of_paws.get('elephant'))"
      ],
      "execution_count": 633,
      "outputs": [
        {
          "output_type": "stream",
          "text": [
            "0\n",
            "None\n"
          ],
          "name": "stdout"
        }
      ]
    },
    {
      "metadata": {
        "id": "qfGktFTkO9Sj",
        "colab_type": "code",
        "outputId": "2b2bb4b1-6f8c-473e-9782-8baeca8f6aac",
        "colab": {
          "base_uri": "https://localhost:8080/",
          "height": 51
        }
      },
      "cell_type": "code",
      "source": [
        "nicks = {'luca': 'peter', 'joe': 'doe'}\n",
        "\n",
        "def nick_if_you_have_it(n):\n",
        "    nn = nicks.get(n)\n",
        "    return n if nn is None else nn\n",
        "\n",
        "print(nick_if_you_have_it('luca'))\n",
        "print(nick_if_you_have_it('helen'))"
      ],
      "execution_count": 634,
      "outputs": [
        {
          "output_type": "stream",
          "text": [
            "peter\n",
            "helen\n"
          ],
          "name": "stdout"
        }
      ]
    },
    {
      "metadata": {
        "id": "Kf5rzCAxlhof",
        "colab_type": "code",
        "colab": {}
      },
      "cell_type": "code",
      "source": [
        "# This also shows why None is so useful.\n",
        "# Let's do another example.  Suppose you are given a list of animals.\n",
        "animals = ['pig', 'donkey', 'chicken', 'cat', 'dog', 'snake']"
      ],
      "execution_count": 0,
      "outputs": []
    },
    {
      "metadata": {
        "id": "BIP3KG6Vlkfy",
        "colab_type": "code",
        "outputId": "d60f981d-a21e-4566-87dc-66690d574608",
        "colab": {
          "base_uri": "https://localhost:8080/",
          "height": 34
        }
      },
      "cell_type": "code",
      "source": [
        "# Now you want to build a second list, containing the number of paws of each.\n",
        "my_paws = [n_of_paws.get(a) for a in animals]\n",
        "print(my_paws)"
      ],
      "execution_count": 636,
      "outputs": [
        {
          "output_type": "stream",
          "text": [
            "[None, None, None, 4, None, 0]\n"
          ],
          "name": "stdout"
        }
      ]
    },
    {
      "metadata": {
        "id": "9aYfZ54rxDWy",
        "colab_type": "code",
        "outputId": "70d30b8c-b6c4-48aa-bfbd-29ce7168e2a3",
        "colab": {
          "base_uri": "https://localhost:8080/",
          "height": 34
        }
      },
      "cell_type": "code",
      "source": [
        "# Hmm, we don't know it for all animals.  And also, I would like a dictionary. \n",
        "# Let's fix the dictionary thing first. \n",
        "my_paws = {a : n_of_paws.get(a) for a in animals}\n",
        "print(my_paws)"
      ],
      "execution_count": 637,
      "outputs": [
        {
          "output_type": "stream",
          "text": [
            "{'pig': None, 'donkey': None, 'chicken': None, 'cat': 4, 'dog': None, 'snake': 0}\n"
          ],
          "name": "stdout"
        }
      ]
    },
    {
      "metadata": {
        "id": "N8-T8MYnzKYe",
        "colab_type": "text"
      },
      "cell_type": "markdown",
      "source": [
        "What we did above is a dictionary comprehension.\n",
        "It works similarly to a string comprehension, but uses the syntax {k: d for ...}\n",
        "to build the dictionary.  "
      ]
    },
    {
      "metadata": {
        "id": "conzHq0cxigR",
        "colab_type": "code",
        "outputId": "f8f5a5fd-1c40-4cdf-bd07-f9db88a14c6e",
        "colab": {
          "base_uri": "https://localhost:8080/",
          "height": 34
        }
      },
      "cell_type": "code",
      "source": [
        "# You can also build a dictionary like this:\n",
        "d = dict(dog=4, cat=4, bird=2, fish=0)\n",
        "# Of course, the keys need to be variable names...\n",
        "print(d)"
      ],
      "execution_count": 638,
      "outputs": [
        {
          "output_type": "stream",
          "text": [
            "{'dog': 4, 'cat': 4, 'bird': 2, 'fish': 0}\n"
          ],
          "name": "stdout"
        }
      ]
    },
    {
      "metadata": {
        "id": "I4fH86tXQOHh",
        "colab_type": "code",
        "outputId": "8ae4a448-502c-4854-91fb-ff9a7296deaa",
        "colab": {
          "base_uri": "https://localhost:8080/",
          "height": 34
        }
      },
      "cell_type": "code",
      "source": [
        "# Sets. \n",
        "s = set()\n",
        "print(s)"
      ],
      "execution_count": 639,
      "outputs": [
        {
          "output_type": "stream",
          "text": [
            "set()\n"
          ],
          "name": "stdout"
        }
      ]
    },
    {
      "metadata": {
        "id": "PNT4q5Ks7v79",
        "colab_type": "text"
      },
      "cell_type": "markdown",
      "source": [
        "## Conditionals"
      ]
    },
    {
      "metadata": {
        "id": "SVoA-VsT7ys_",
        "colab_type": "code",
        "outputId": "d44525f8-ad36-4fe0-d1a1-1a2f5687db5a",
        "colab": {
          "base_uri": "https://localhost:8080/",
          "height": 34
        }
      },
      "cell_type": "code",
      "source": [
        "# You can build boolean expressions with the usual relational operators\n",
        "# <, <=, >, >=, ==, and !=. \n",
        "print(3 < 4)"
      ],
      "execution_count": 640,
      "outputs": [
        {
          "output_type": "stream",
          "text": [
            "True\n"
          ],
          "name": "stdout"
        }
      ]
    },
    {
      "metadata": {
        "id": "9Fvh8i1178HH",
        "colab_type": "code",
        "outputId": "3c9884b0-d521-4302-bbb4-c849eafd8726",
        "colab": {
          "base_uri": "https://localhost:8080/",
          "height": 51
        }
      },
      "cell_type": "code",
      "source": [
        "# There are also other operators.  One is \"in\", to test membership \n",
        "# in lists or dictionaries or sets or strings: \n",
        "print('a' in ['a', 'b', 'c'])\n",
        "print('a' in 'hello my dear')"
      ],
      "execution_count": 641,
      "outputs": [
        {
          "output_type": "stream",
          "text": [
            "True\n",
            "True\n"
          ],
          "name": "stdout"
        }
      ]
    },
    {
      "metadata": {
        "id": "RfhvJmk38PdR",
        "colab_type": "code",
        "outputId": "c3314de5-c25e-4e92-8291-4274ef9b615e",
        "colab": {
          "base_uri": "https://localhost:8080/",
          "height": 34
        }
      },
      "cell_type": "code",
      "source": [
        "# Another one is \"is\" and \"is not\", to check whether two things are identical, \n",
        "# most often used for None: \n",
        "print([a for a in [1, 2, 3, None, 4] if a is not None])"
      ],
      "execution_count": 642,
      "outputs": [
        {
          "output_type": "stream",
          "text": [
            "[1, 2, 3, 4]\n"
          ],
          "name": "stdout"
        }
      ]
    },
    {
      "metadata": {
        "id": "RDIMwV2K8flt",
        "colab_type": "code",
        "outputId": "ceb703e1-f61c-431d-e5d9-e737dbd8337f",
        "colab": {
          "base_uri": "https://localhost:8080/",
          "height": 357
        }
      },
      "cell_type": "code",
      "source": [
        "# The if is expressed via if / elif / else:\n",
        "for x in range(10):\n",
        "    if x % 2 == 0: # The % is the modulus operator.\n",
        "        print(x, \"is even\")\n",
        "    else:\n",
        "        print(x, \"is odd\")\n",
        "    if x % 3 == 0:\n",
        "        print(x, \"is multiple of 3\")\n",
        "    elif x % 3 == 1:\n",
        "        print(x, \"is 1 above a multiple of 3\")\n",
        "    else:\n",
        "        print(x, \"is 1 below a multiple of 3\")"
      ],
      "execution_count": 643,
      "outputs": [
        {
          "output_type": "stream",
          "text": [
            "0 is even\n",
            "0 is multiple of 3\n",
            "1 is odd\n",
            "1 is 1 above a multiple of 3\n",
            "2 is even\n",
            "2 is 1 below a multiple of 3\n",
            "3 is odd\n",
            "3 is multiple of 3\n",
            "4 is even\n",
            "4 is 1 above a multiple of 3\n",
            "5 is odd\n",
            "5 is 1 below a multiple of 3\n",
            "6 is even\n",
            "6 is multiple of 3\n",
            "7 is odd\n",
            "7 is 1 above a multiple of 3\n",
            "8 is even\n",
            "8 is 1 below a multiple of 3\n",
            "9 is odd\n",
            "9 is multiple of 3\n"
          ],
          "name": "stdout"
        }
      ]
    },
    {
      "metadata": {
        "id": "oI5OLlZT9L9d",
        "colab_type": "code",
        "outputId": "a8145378-cc1d-4089-de9a-96caf4168992",
        "colab": {
          "base_uri": "https://localhost:8080/",
          "height": 34
        }
      },
      "cell_type": "code",
      "source": [
        "# If / then / else can be used also as an expression, using the following syntax:\n",
        "x = 3\n",
        "y = x + 1 if x % 2 == 0 else x + 2\n",
        "print(y)"
      ],
      "execution_count": 644,
      "outputs": [
        {
          "output_type": "stream",
          "text": [
            "5\n"
          ],
          "name": "stdout"
        }
      ]
    },
    {
      "metadata": {
        "id": "y-Hx6dEd9dzT",
        "colab_type": "code",
        "outputId": "d71c6673-5e64-4585-d1a9-d6a20adacf98",
        "colab": {
          "base_uri": "https://localhost:8080/",
          "height": 34
        }
      },
      "cell_type": "code",
      "source": [
        "# This can be very handy in list comprehensions.\n",
        "print([x if x % 2 == 0 else - x for x in range(10)])"
      ],
      "execution_count": 645,
      "outputs": [
        {
          "output_type": "stream",
          "text": [
            "[0, -1, 2, -3, 4, -5, 6, -7, 8, -9]\n"
          ],
          "name": "stdout"
        }
      ]
    },
    {
      "metadata": {
        "id": "xNpgmyOd0gHR",
        "colab_type": "text"
      },
      "cell_type": "markdown",
      "source": [
        "## Iteration"
      ]
    },
    {
      "metadata": {
        "id": "mva7sbs-y7lR",
        "colab_type": "code",
        "outputId": "6ae14490-dc33-4fbb-86a9-a18602e789f6",
        "colab": {
          "base_uri": "https://localhost:8080/",
          "height": 187
        }
      },
      "cell_type": "code",
      "source": [
        "# In old poor languages like Fortran and C, when you iterate, you have to \n",
        "# have a counter, increment it, and all that stuff.  Yeech. \n",
        "# Not so in Python.  You iterate over something that is iterable, that is, \n",
        "# that has (or can produce) a sequence of elements.  Like... a list! \n",
        "my_words = \"I like to eat pizza with anchovies, I actually do!\".split()\n",
        "for w in my_words:\n",
        "    print(\"My word is:\", w)"
      ],
      "execution_count": 646,
      "outputs": [
        {
          "output_type": "stream",
          "text": [
            "My word is: I\n",
            "My word is: like\n",
            "My word is: to\n",
            "My word is: eat\n",
            "My word is: pizza\n",
            "My word is: with\n",
            "My word is: anchovies,\n",
            "My word is: I\n",
            "My word is: actually\n",
            "My word is: do!\n"
          ],
          "name": "stdout"
        }
      ]
    },
    {
      "metadata": {
        "id": "TVSICPjF1MHt",
        "colab_type": "code",
        "outputId": "eb4e9661-7117-4102-aaed-94c9dff08cd1",
        "colab": {
          "base_uri": "https://localhost:8080/",
          "height": 187
        }
      },
      "cell_type": "code",
      "source": [
        "# You can also iterate over pairs, consisting of the element index and the list element:\n",
        "for i, w in enumerate(my_words):\n",
        "    print(\"The word number\", i, \"is:\", w)"
      ],
      "execution_count": 647,
      "outputs": [
        {
          "output_type": "stream",
          "text": [
            "The word number 0 is: I\n",
            "The word number 1 is: like\n",
            "The word number 2 is: to\n",
            "The word number 3 is: eat\n",
            "The word number 4 is: pizza\n",
            "The word number 5 is: with\n",
            "The word number 6 is: anchovies,\n",
            "The word number 7 is: I\n",
            "The word number 8 is: actually\n",
            "The word number 9 is: do!\n"
          ],
          "name": "stdout"
        }
      ]
    },
    {
      "metadata": {
        "id": "pRbVD4DT1aEI",
        "colab_type": "code",
        "outputId": "6e1ec6d4-9379-41b1-a6fe-4c428eb47fcb",
        "colab": {
          "base_uri": "https://localhost:8080/",
          "height": 153
        }
      },
      "cell_type": "code",
      "source": [
        "# If you get tired of iteration, you can break out of it: \n",
        "for w in my_words:\n",
        "    print(w)\n",
        "    if w.startswith('anchovies'):\n",
        "        print(\"   Indeed, they are delicious, no need to say more!\")\n",
        "        break"
      ],
      "execution_count": 648,
      "outputs": [
        {
          "output_type": "stream",
          "text": [
            "I\n",
            "like\n",
            "to\n",
            "eat\n",
            "pizza\n",
            "with\n",
            "anchovies,\n",
            "   Indeed, they are delicious, no need to say more!\n"
          ],
          "name": "stdout"
        }
      ]
    },
    {
      "metadata": {
        "id": "9wtkml541jVB",
        "colab_type": "code",
        "outputId": "2c8266d3-3554-4265-d4fb-af50292db022",
        "colab": {
          "base_uri": "https://localhost:8080/",
          "height": 187
        }
      },
      "cell_type": "code",
      "source": [
        "# And if you need to iterate over indices, like you used to do in C? \n",
        "# Well, you just create... a list of indices! \n",
        "for i in range(10):\n",
        "    print(\"My integer is:\", i)"
      ],
      "execution_count": 649,
      "outputs": [
        {
          "output_type": "stream",
          "text": [
            "My integer is: 0\n",
            "My integer is: 1\n",
            "My integer is: 2\n",
            "My integer is: 3\n",
            "My integer is: 4\n",
            "My integer is: 5\n",
            "My integer is: 6\n",
            "My integer is: 7\n",
            "My integer is: 8\n",
            "My integer is: 9\n"
          ],
          "name": "stdout"
        }
      ]
    },
    {
      "metadata": {
        "id": "LhzuMNq62FXn",
        "colab_type": "code",
        "outputId": "6615983a-742e-417c-aec5-847f0eb82a35",
        "colab": {
          "base_uri": "https://localhost:8080/",
          "height": 119
        }
      },
      "cell_type": "code",
      "source": [
        "# Note that you can also iterate on list slices:\n",
        "print(\"Let's print(the first five words\")\n",
        "for w in my_words[:5]:\n",
        "    print(w)"
      ],
      "execution_count": 650,
      "outputs": [
        {
          "output_type": "stream",
          "text": [
            "Let's print(the first five words\n",
            "I\n",
            "like\n",
            "to\n",
            "eat\n",
            "pizza\n"
          ],
          "name": "stdout"
        }
      ]
    },
    {
      "metadata": {
        "id": "rLJGUjp22xL5",
        "colab_type": "text"
      },
      "cell_type": "markdown",
      "source": [
        "Oh btw, did you notice that we are using indentation rather than those \n",
        "pesky { } ?  Some people think it's silly, a throwback to Fortran and \n",
        "punched cards.  I think it's brilliant.  See, in C or Java you have \n",
        "two things: the real structure of the code (indicated by braces) and the illustrated structure (indicated by indentation).  The problem with this is that sometimes indentation and braces they differ, and when they do, the visual indication is fallacious.  In Python, the visual indication is also the structural one, and is always truthful. \n",
        "\n",
        "I am sure you prefer this to a language where there is only structure and no visuals! "
      ]
    },
    {
      "metadata": {
        "id": "05zZ65Yc2Vej",
        "colab_type": "code",
        "outputId": "640f950c-aa57-4f6f-fe6c-434b078e42f7",
        "colab": {
          "base_uri": "https://localhost:8080/",
          "height": 85
        }
      },
      "cell_type": "code",
      "source": [
        "# If you have a dictionary, you can iterate on it like this. \n",
        "# On keys only (because .keys() returns the list of keys):\n",
        "for k in n_of_paws.keys():\n",
        "    print(\"I have a\", k)"
      ],
      "execution_count": 651,
      "outputs": [
        {
          "output_type": "stream",
          "text": [
            "I have a cat\n",
            "I have a fish\n",
            "I have a bird\n",
            "I have a snake\n"
          ],
          "name": "stdout"
        }
      ]
    },
    {
      "metadata": {
        "id": "Hee0NxlZ3ahm",
        "colab_type": "code",
        "outputId": "d858b5d1-7077-4ea3-d3f2-cd81cf3c34e2",
        "colab": {
          "base_uri": "https://localhost:8080/",
          "height": 85
        }
      },
      "cell_type": "code",
      "source": [
        "# ... and on key-value pairs, via .item() : \n",
        "for k, v in n_of_paws.items():\n",
        "    print(\"A\", k, \"has\", v, \"paws\")"
      ],
      "execution_count": 652,
      "outputs": [
        {
          "output_type": "stream",
          "text": [
            "A cat has 4 paws\n",
            "A fish has 0 paws\n",
            "A bird has 2 paws\n",
            "A snake has 0 paws\n"
          ],
          "name": "stdout"
        }
      ]
    },
    {
      "metadata": {
        "id": "-OKmn62J9uco",
        "colab_type": "code",
        "outputId": "dfb16bf9-ba2f-468c-fb9d-cf3238c3945e",
        "colab": {
          "base_uri": "https://localhost:8080/",
          "height": 85
        }
      },
      "cell_type": "code",
      "source": [
        "# There is also a while statement, which works as usual... \n",
        "x = 3.\n",
        "while x > 1.1:\n",
        "    print(x)\n",
        "    x = x / 1.6\n",
        "print(\"The final result is:\", x)"
      ],
      "execution_count": 653,
      "outputs": [
        {
          "output_type": "stream",
          "text": [
            "3.0\n",
            "1.875\n",
            "1.171875\n",
            "The final result is: 0.732421875\n"
          ],
          "name": "stdout"
        }
      ]
    },
    {
      "metadata": {
        "id": "6qkLsTK93xxF",
        "colab_type": "text"
      },
      "cell_type": "markdown",
      "source": [
        "## Functions"
      ]
    },
    {
      "metadata": {
        "id": "zVeg_bdX3qqz",
        "colab_type": "code",
        "outputId": "f598959c-5a7b-4d9a-e5bc-fef0ae0f3649",
        "colab": {
          "base_uri": "https://localhost:8080/",
          "height": 34
        }
      },
      "cell_type": "code",
      "source": [
        "def addone(x):\n",
        "    return x + 1\n",
        "\n",
        "print(addone(3))"
      ],
      "execution_count": 654,
      "outputs": [
        {
          "output_type": "stream",
          "text": [
            "4\n"
          ],
          "name": "stdout"
        }
      ]
    },
    {
      "metadata": {
        "id": "3tb5Tjsy-rjt",
        "colab_type": "code",
        "colab": {}
      },
      "cell_type": "code",
      "source": [
        "# Ok, one more argument!  Let's test our CS skill! \n",
        "def add_one_to_prod(x, y):\n",
        "    \"\"\"This function adds one to the product of x and y,\n",
        "    and this is how you are supposed to document what a \n",
        "    function does.\"\"\"\n",
        "    p = x * y\n",
        "    return p + 1"
      ],
      "execution_count": 0,
      "outputs": []
    },
    {
      "metadata": {
        "id": "W_n5-apl_BP-",
        "colab_type": "code",
        "outputId": "68dd5076-e28e-40a4-e338-e2a6d2a6a5e2",
        "colab": {
          "base_uri": "https://localhost:8080/",
          "height": 34
        }
      },
      "cell_type": "code",
      "source": [
        "# At this point, writing the function for the factorial is compulsory.\n",
        "def factorial(n):\n",
        "    # Assertions are useful to check that the values passed to a function make sense.\n",
        "    # These assertions cause an error if not satisfied.  Try it! \n",
        "    assert type(n) is int, \"n is not an integer!\"\n",
        "    assert n > 0, \"n is not positive!\"\n",
        "    if n <= 1:\n",
        "        return 1 # Well, I am assuming\n",
        "    else:\n",
        "        return n * factorial(n - 1)\n",
        "    \n",
        "print(factorial(4))"
      ],
      "execution_count": 656,
      "outputs": [
        {
          "output_type": "stream",
          "text": [
            "24\n"
          ],
          "name": "stdout"
        }
      ]
    },
    {
      "metadata": {
        "id": "p771ic3-_dV0",
        "colab_type": "code",
        "outputId": "a2a6aa22-f809-40da-da0e-033fac9e1c15",
        "colab": {
          "base_uri": "https://localhost:8080/",
          "height": 34
        }
      },
      "cell_type": "code",
      "source": [
        "# Remember the Euclid's MCD algorithm? \n",
        "# Well, I hope I do.\n",
        "def mcd(n, k):\n",
        "    assert type(n) is int and type(k) is int # I am being fussy\n",
        "    assert n >= 0 and k >= 0\n",
        "    if n < 2: # Case for 0, 1\n",
        "        return k\n",
        "    else:\n",
        "        return mcd(k % n, n)\n",
        "\n",
        "# Note that in the algorithm above, in the first call it might be the case that \n",
        "# n > k, but in all other calls, n <= k (why?).  \n",
        "\n",
        "print(mcd(342, 54))"
      ],
      "execution_count": 657,
      "outputs": [
        {
          "output_type": "stream",
          "text": [
            "18\n"
          ],
          "name": "stdout"
        }
      ]
    },
    {
      "metadata": {
        "id": "GiWNWgfLAree",
        "colab_type": "code",
        "outputId": "1d386692-dbfd-43c2-d6f8-0e819dabccdd",
        "colab": {
          "base_uri": "https://localhost:8080/",
          "height": 51
        }
      },
      "cell_type": "code",
      "source": [
        "# One of the very nice things about Python is that functions can have \n",
        "# optional arguments, which have a default value.\n",
        "def incadd(x, d=1):\n",
        "    return x + d\n",
        "\n",
        "print(incadd(3, d=4))\n",
        "print(incadd(3))"
      ],
      "execution_count": 658,
      "outputs": [
        {
          "output_type": "stream",
          "text": [
            "7\n",
            "4\n"
          ],
          "name": "stdout"
        }
      ]
    },
    {
      "metadata": {
        "id": "GBFW-H8jBjfR",
        "colab_type": "code",
        "outputId": "9c043167-ccf9-446b-e680-c8ceafd5df13",
        "colab": {
          "base_uri": "https://localhost:8080/",
          "height": 51
        }
      },
      "cell_type": "code",
      "source": [
        "# Often, the optional argument has default value None. \n",
        "# Functions, btw, can be passed around just as regular values.  \n",
        "# Let's try this.  Let us define a function g that squares a number.\n",
        "def g(x):\n",
        "    return x * x\n",
        "\n",
        "def f(x, h=None):\n",
        "    \"\"\"Adds 1 to x, then applies modifier function h if any,\n",
        "    and returns the result.\"\"\"\n",
        "    y = x + 1\n",
        "    return y if h is None else h(y)\n",
        "\n",
        "print(f(2))\n",
        "print(f(2, h=g))"
      ],
      "execution_count": 659,
      "outputs": [
        {
          "output_type": "stream",
          "text": [
            "3\n",
            "9\n"
          ],
          "name": "stdout"
        }
      ]
    },
    {
      "metadata": {
        "id": "vDyUpa7_L54U",
        "colab_type": "text"
      },
      "cell_type": "markdown",
      "source": [
        "## Importing modules"
      ]
    },
    {
      "metadata": {
        "id": "5wYw6n_5L98R",
        "colab_type": "code",
        "outputId": "9be66396-5eb0-4ed5-c900-95fd0c132d54",
        "colab": {
          "base_uri": "https://localhost:8080/",
          "height": 34
        }
      },
      "cell_type": "code",
      "source": [
        "# Python libraries are organized in modules. \n",
        "# You need to import them before using them. \n",
        "import math\n",
        "print(math.sqrt(3.))"
      ],
      "execution_count": 660,
      "outputs": [
        {
          "output_type": "stream",
          "text": [
            "1.7320508075688772\n"
          ],
          "name": "stdout"
        }
      ]
    },
    {
      "metadata": {
        "id": "ptW6o8nZMI3v",
        "colab_type": "code",
        "outputId": "791cef1b-d6fd-4f22-a8a6-8c23bcb47ff0",
        "colab": {
          "base_uri": "https://localhost:8080/",
          "height": 34
        }
      },
      "cell_type": "code",
      "source": [
        "# If you like, you can also import individual functions from libraries.\n",
        "from math import sqrt as square_root\n",
        "print(square_root(2.))"
      ],
      "execution_count": 661,
      "outputs": [
        {
          "output_type": "stream",
          "text": [
            "1.4142135623730951\n"
          ],
          "name": "stdout"
        }
      ]
    },
    {
      "metadata": {
        "id": "ureSKSFMMXtX",
        "colab_type": "code",
        "colab": {}
      },
      "cell_type": "code",
      "source": [
        "# If you have a file myfile.py in the current directory, defining a function f,\n",
        "# you can import it and use f like this: \n",
        "# import myfile\n",
        "# y = myfile.f(x)"
      ],
      "execution_count": 0,
      "outputs": []
    },
    {
      "metadata": {
        "id": "rfrbB8AYMrMk",
        "colab_type": "code",
        "colab": {}
      },
      "cell_type": "code",
      "source": [
        "# If myfile is in a subdirectory foo of the current directory, \n",
        "# and if foo contains both myfile.py and __init__.py (the latter\n",
        "# can be empty, but must exist), then you can do: \n",
        "# import foo.myfile\n",
        "# y = myfile.f(x)"
      ],
      "execution_count": 0,
      "outputs": []
    },
    {
      "metadata": {
        "id": "v3CGE72REsXJ",
        "colab_type": "text"
      },
      "cell_type": "markdown",
      "source": [
        "## Classes"
      ]
    },
    {
      "metadata": {
        "id": "QkYwW8lIEc1M",
        "colab_type": "code",
        "colab": {}
      },
      "cell_type": "code",
      "source": [
        "# Here is a simple standard class.\n",
        "class Product(object):\n",
        "    \n",
        "    def __init__(self, name, price=0., quantity=0):\n",
        "        \"\"\"In the initializer, you should define the values that each object\n",
        "        has.  Here, 'self' means, the object.\"\"\"\n",
        "        self.name = name \n",
        "        self.price = price\n",
        "        self.quantity = quantity\n",
        "        \n",
        "    def __repr__(self):\n",
        "        \"\"\"Represents a class element in a reasonable way.\n",
        "        Note the format statement below to help produce a string.\"\"\"\n",
        "        return \"Hello, I am a {} and cost ${}; you have {} of me\".format(\n",
        "            self.name, self.price, self.quantity\n",
        "        )\n",
        "            \n",
        "    \n",
        "    def inflation(self, x):\n",
        "        \"\"\"Increases the price by a factor x.\n",
        "        Note how self is always the first argument of methods; otherwise,\n",
        "        you would not know to which object to apply the operations.\"\"\"\n",
        "        self.price *= x\n",
        "        \n",
        "    def value(self):\n",
        "        \"\"\"Total value of products of this type.\"\"\"\n",
        "        return self.price * self.quantity"
      ],
      "execution_count": 0,
      "outputs": []
    },
    {
      "metadata": {
        "id": "Vjif1xPIOn3L",
        "colab_type": "code",
        "colab": {}
      },
      "cell_type": "code",
      "source": [
        "# Let's make a list of products.\n",
        "cart = [\n",
        "    Product('Pear', price=1.99, quantity=10),\n",
        "    Product('Apple', price=0.99, quantity=15),\n",
        "    Product('Onion', price=1.49, quantity=57)\n",
        "]"
      ],
      "execution_count": 0,
      "outputs": []
    },
    {
      "metadata": {
        "id": "A-np4oPXOmzG",
        "colab_type": "code",
        "outputId": "046490b4-5f2e-440f-86ea-8784999eddde",
        "colab": {
          "base_uri": "https://localhost:8080/",
          "height": 68
        }
      },
      "cell_type": "code",
      "source": [
        "# We can print(it; the representation is given by __repr__. \n",
        "for p in cart:\n",
        "    print(p)"
      ],
      "execution_count": 666,
      "outputs": [
        {
          "output_type": "stream",
          "text": [
            "Hello, I am a Pear and cost $1.99; you have 10 of me\n",
            "Hello, I am a Apple and cost $0.99; you have 15 of me\n",
            "Hello, I am a Onion and cost $1.49; you have 57 of me\n"
          ],
          "name": "stdout"
        }
      ]
    },
    {
      "metadata": {
        "id": "bqSkhbxMPYkz",
        "colab_type": "code",
        "outputId": "47cbfb16-6b5b-4721-c9d1-1fa32a71347c",
        "colab": {
          "base_uri": "https://localhost:8080/",
          "height": 68
        }
      },
      "cell_type": "code",
      "source": [
        "# What if you buy more apples?  \n",
        "# The proper way would be to define a buy method, and write \n",
        "# something like p.buy(10) to buy 10 more.  But in Python, there is \n",
        "# nothing to prevent you from accessing object variables directly.\n",
        "\n",
        "def double_the_cart(c):\n",
        "    for p in c:\n",
        "        p.quantity *= 2\n",
        "        \n",
        "double_the_cart(cart)\n",
        "\n",
        "def print_cart(c):\n",
        "    for p in c:\n",
        "        print(p)\n",
        "        \n",
        "print_cart(cart)"
      ],
      "execution_count": 667,
      "outputs": [
        {
          "output_type": "stream",
          "text": [
            "Hello, I am a Pear and cost $1.99; you have 20 of me\n",
            "Hello, I am a Apple and cost $0.99; you have 30 of me\n",
            "Hello, I am a Onion and cost $1.49; you have 114 of me\n"
          ],
          "name": "stdout"
        }
      ]
    },
    {
      "metadata": {
        "id": "GiIDiPF-QqeS",
        "colab_type": "text"
      },
      "cell_type": "markdown",
      "source": [
        "## A simple event-based simulator"
      ]
    },
    {
      "metadata": {
        "id": "VXPul2nYSEjT",
        "colab_type": "text"
      },
      "cell_type": "markdown",
      "source": [
        "Let's try to put everything together and design a simple event-based simulator. \n",
        "\n",
        "Every event will have a time at which it happens.  When it happens, it will generate two things: a string that is printed, and a list (possibly empty) of subsequent events. \n",
        "\n",
        "Let us write the code for three event types: one that occurs only once, one that occurs periodically with a certain delay between occurrences forever, and one that occurs periodically, but has a specified maximum number of occurrences."
      ]
    },
    {
      "metadata": {
        "id": "ZyGOQoslhva5",
        "colab_type": "code",
        "colab": {}
      },
      "cell_type": "code",
      "source": [
        "# Before we do it, we have to remedy one of the few silly \n",
        "# choices in the design of Python.\n",
        "# There is apparently no sign function! \n",
        "# This is so silly that I can't resist defining one. \n",
        "def sign(x):\n",
        "    if x < 0:\n",
        "        return -1\n",
        "    elif x > 0:\n",
        "        return 1\n",
        "    else:\n",
        "        return 0"
      ],
      "execution_count": 0,
      "outputs": []
    },
    {
      "metadata": {
        "id": "R6NcNyN-Qpda",
        "colab_type": "code",
        "outputId": "13577a88-4b72-4bc0-fac1-0077a8089213",
        "colab": {
          "base_uri": "https://localhost:8080/",
          "height": 34
        }
      },
      "cell_type": "code",
      "source": [
        "class GenericEvent(object):\n",
        "    \n",
        "    def __init__(self, name, time):\n",
        "        self.name = name\n",
        "        self.time = time\n",
        "        \n",
        "    def __repr__(self):\n",
        "        return \"Event {} of type {} will occurr at {}\".format(\n",
        "            self.name,\n",
        "            type(self),\n",
        "            self.time.isoformat()\n",
        "        )\n",
        "    \n",
        "    # Plese note that __cmp__ is removed in Python3. We need to implement __eq__,\n",
        "    # __ne__, __gt__, __ge__, __le__, __lt__,\n",
        "    def __cmp__(self, other):\n",
        "        \"\"\"To sort events according to their time, we need to \n",
        "        implement the __cmp__ operator; \n",
        "        see https://docs.python.org/2/reference/datamodel.html for more details.\"\"\"\n",
        "        return sign((self.time - other.time).total_seconds())\n",
        "      \n",
        "    def __eq__(self, other):\n",
        "        return self.__cmp__(other) == 0\n",
        "      \n",
        "    def __ne__(self, other):\n",
        "        return self.__cmp__(other) != 0\n",
        "      \n",
        "    def __gt__(self, other):\n",
        "        return self.__cmp__(other) > 0\n",
        "      \n",
        "    def __ge__(self, other):\n",
        "        return self.__cmp__(other) >= 0\n",
        "      \n",
        "    def __le__(self, other):\n",
        "        return self.__cmp__(other) <= 0\n",
        "      \n",
        "    def __lt__(self, other):\n",
        "        return self.__cmp__(other) < 0\n",
        "    \n",
        "    def _effect(self):\n",
        "        \"\"\"In Python, methods that are supposed to be accessed only within\n",
        "        the class are prepended with _.  Note that this is just a convention;\n",
        "        nothing prevents you from calling these methods from outside the class.\n",
        "        \"\"\"\n",
        "        print(\"At {}: {}\".format(self.time.isoformat(), self.name))\n",
        "        \n",
        "    def do(self):\n",
        "        \"\"\"You are supposed to define what happens in each subclass.\"\"\"\n",
        "        raise NotImplementedError\n",
        "              \n",
        "# We need the datetime module to process times.\n",
        "import datetime\n",
        "e = GenericEvent('Sun shines', datetime.datetime.now() + datetime.timedelta(hours=1))\n",
        "print(e)"
      ],
      "execution_count": 669,
      "outputs": [
        {
          "output_type": "stream",
          "text": [
            "Event Sun shines of type <class '__main__.GenericEvent'> will occurr at 2019-01-11T03:31:12.239897\n"
          ],
          "name": "stdout"
        }
      ]
    },
    {
      "metadata": {
        "id": "GOn2kj8OTlgG",
        "colab_type": "code",
        "colab": {}
      },
      "cell_type": "code",
      "source": [
        "# Ok.  Now let's define an event that happens once only.\n",
        "class OnceOnlyEvent(GenericEvent):\n",
        "    \"\"\"OnceOnlyEvent extends GenericEvent, and so it inherits all of its\n",
        "    methods, including __repr__, __comp__, _effect.\"\"\"\n",
        "    \n",
        "    def __init__(self, name, time):\n",
        "        # We simply define an element of the superclass.\n",
        "        # Here, super(OnceOnlyEvent, self) is the Python way for getting\n",
        "        # access to the superclass methods from a subclass. \n",
        "        super(OnceOnlyEvent, self).__init__(name, time)\n",
        "        \n",
        "    def do(self):\n",
        "        self._effect()\n",
        "        # No other events are generated.\n",
        "        return []"
      ],
      "execution_count": 0,
      "outputs": []
    },
    {
      "metadata": {
        "id": "oU9pf8fwU9Gx",
        "colab_type": "code",
        "colab": {}
      },
      "cell_type": "code",
      "source": [
        "class InfinitePeriodicEvent(GenericEvent):\n",
        "    \"\"\"This is a periodic event.\"\"\"\n",
        "    \n",
        "    def __init__(self, name, time, periodicity):\n",
        "        \"\"\"time is a datetime object; periodicity is expressed as a timedelta object.\"\"\"\n",
        "        super(InfinitePeriodicEvent, self).__init__(name, time)\n",
        "        self.periodicity = periodicity\n",
        "        \n",
        "    def do(self):\n",
        "        self._effect()\n",
        "        # Generates and returns the next occurrence of the event.\n",
        "        next_event = PeriodicEvent(\n",
        "            self.name, \n",
        "            self.time + self.periodicity,\n",
        "            self.periodicity\n",
        "        )\n",
        "        return [next_event]"
      ],
      "execution_count": 0,
      "outputs": []
    },
    {
      "metadata": {
        "id": "JBDmQKy_WGiq",
        "colab_type": "code",
        "colab": {}
      },
      "cell_type": "code",
      "source": [
        "class PeriodicEvent(GenericEvent):\n",
        "    \"\"\"This is a periodic event like above, except that it has\n",
        "    an optional maximum number of occurrences.\"\"\"\n",
        "    \n",
        "    def __init__(self, name, time, periodicity, num_occurrences=None):\n",
        "        \"\"\"\n",
        "        Let's document this constructor a bit better.\n",
        "        @param name: name of the event.\n",
        "        @param time: time of first occurrence of the event (datetime object).\n",
        "        @param periodicity: periodicity of the event (timedelta object).\n",
        "        @param num_occurrences: number of future occurrences of the event.\n",
        "            If None, then infinite future occurrences can happen.\n",
        "        \n",
        "        \"\"\"\n",
        "        assert num_occurrences is None or num_occurrences > 0\n",
        "        # We don't want to go back in time!\n",
        "        assert periodicity.total_seconds() > 0.\n",
        "        super(PeriodicEvent, self).__init__(name, time)\n",
        "        self.periodicity = periodicity\n",
        "        self.num_occurrences = num_occurrences\n",
        "        \n",
        "    def do(self):\n",
        "        self._effect()\n",
        "        # Generates and returns the next occurrence of the event.\n",
        "        if self.num_occurrences is None or self.num_occurrences > 1:\n",
        "            return [PeriodicEvent(\n",
        "                self.name, \n",
        "                self.time + self.periodicity,\n",
        "                self.periodicity,\n",
        "                num_occurrences = None if self.num_occurrences is None \n",
        "                                  else self.num_occurrences - 1\n",
        "            )]\n",
        "        else:\n",
        "            return []"
      ],
      "execution_count": 0,
      "outputs": []
    },
    {
      "metadata": {
        "id": "paW7emunYCI8",
        "colab_type": "text"
      },
      "cell_type": "markdown",
      "source": [
        "Great.  Now, let's define our discrete event simulator.  It will be a class, have a method to add new events to it, and it will have a method step(), which causes the next event to occur. \n",
        "\n",
        "In order to quickly determine which one is the next event, \n",
        "we will store events in a priority queue.  This is implemented via the heapq module, whose documentation is at https://docs.python.org/2/library/heapq.html"
      ]
    },
    {
      "metadata": {
        "id": "QMKRcWMOX3dY",
        "colab_type": "code",
        "colab": {}
      },
      "cell_type": "code",
      "source": [
        "import heapq # Implementation of a priority queue in Python.\n",
        "\n",
        "class EventSimulator(object):\n",
        "    \n",
        "    def __init__(self, event_list=[]):\n",
        "        self.event_heap = event_list\n",
        "        # We transform the event list into a heap.\n",
        "        heapq.heapify(self.event_heap)\n",
        "        \n",
        "    def add_event(self, e):\n",
        "        \"\"\"Adds an event e, maintaining the heap invariant.\"\"\"\n",
        "        heapq.heappush(self.event_heap, e)\n",
        "        \n",
        "    def step(self):\n",
        "        \"\"\"Performs one step of the event simulator.\"\"\"\n",
        "        # Gets the first event.\n",
        "        e = heapq.heappop(self.event_heap)\n",
        "        # Causes e to happen.\n",
        "        generated_events = e.do()\n",
        "        # And inserts the resulting events into the heap of future events.\n",
        "        for ge in generated_events:\n",
        "            self.add_event(ge)"
      ],
      "execution_count": 0,
      "outputs": []
    },
    {
      "metadata": {
        "id": "-Va0ZFeOcnvy",
        "colab_type": "code",
        "colab": {}
      },
      "cell_type": "code",
      "source": [
        "# That's all there is to it.  Now let's try how it works.\n",
        "# We generate a couple of events that happen only once: \n",
        "now = datetime.datetime.now()\n",
        "ten_secs = datetime.timedelta(seconds=10)\n",
        "twentyfive_secs = datetime.timedelta(seconds=25)\n",
        "\n",
        "once1 = OnceOnlyEvent(\"once1\", now + ten_secs)\n",
        "once2 = OnceOnlyEvent(\"once2\", now + twentyfive_secs)"
      ],
      "execution_count": 0,
      "outputs": []
    },
    {
      "metadata": {
        "id": "Ebb1lJlAdPdj",
        "colab_type": "code",
        "colab": {}
      },
      "cell_type": "code",
      "source": [
        "# Let's also define two periodic events, one with 3 occurrences,\n",
        "# the other with infinite occurrences.\n",
        "two_secs = datetime.timedelta(seconds=2)\n",
        "three_secs = datetime.timedelta(seconds=3)\n",
        "\n",
        "periodic1 = PeriodicEvent(\"periodic1\", now + ten_secs, two_secs, num_occurrences=3)\n",
        "periodic2 = PeriodicEvent(\"periodic2\", now + twentyfive_secs, three_secs)"
      ],
      "execution_count": 0,
      "outputs": []
    },
    {
      "metadata": {
        "id": "njwkT706eXLm",
        "colab_type": "code",
        "colab": {}
      },
      "cell_type": "code",
      "source": [
        "# Let's create our event simulator. \n",
        "sim = EventSimulator([once1, once2, periodic1, periodic2])"
      ],
      "execution_count": 0,
      "outputs": []
    },
    {
      "metadata": {
        "id": "LsjIFxY-g3P7",
        "colab_type": "code",
        "outputId": "63736380-78f8-4a14-a540-4f78096a35a1",
        "colab": {
          "base_uri": "https://localhost:8080/",
          "height": 34
        }
      },
      "cell_type": "code",
      "source": [
        "sim.step()"
      ],
      "execution_count": 677,
      "outputs": [
        {
          "output_type": "stream",
          "text": [
            "At 2019-01-11T02:31:22.317498: periodic1\n"
          ],
          "name": "stdout"
        }
      ]
    },
    {
      "metadata": {
        "id": "JuNMeyDYiNFs",
        "colab_type": "code",
        "outputId": "1922a26d-ae19-4d9e-a553-5fce7130360f",
        "colab": {
          "base_uri": "https://localhost:8080/",
          "height": 54
        }
      },
      "cell_type": "code",
      "source": [
        "# What's in the event queue? \n",
        "print(sim.event_heap)"
      ],
      "execution_count": 678,
      "outputs": [
        {
          "output_type": "stream",
          "text": [
            "[Event once1 of type <class '__main__.OnceOnlyEvent'> will occurr at 2019-01-11T02:31:22.317498, Event periodic1 of type <class '__main__.PeriodicEvent'> will occurr at 2019-01-11T02:31:24.317498, Event once2 of type <class '__main__.OnceOnlyEvent'> will occurr at 2019-01-11T02:31:37.317498, Event periodic2 of type <class '__main__.PeriodicEvent'> will occurr at 2019-01-11T02:31:37.317498]\n"
          ],
          "name": "stdout"
        }
      ]
    },
    {
      "metadata": {
        "id": "SpxS_5SYioUv",
        "colab_type": "code",
        "outputId": "ee1f1f9d-d621-497b-f9fb-bd66d9b408b1",
        "colab": {
          "base_uri": "https://localhost:8080/",
          "height": 374
        }
      },
      "cell_type": "code",
      "source": [
        "# Let's do 20 steps now.\n",
        "for _ in range(20):\n",
        "    sim.step()\n",
        "print(sim.event_heap)"
      ],
      "execution_count": 679,
      "outputs": [
        {
          "output_type": "stream",
          "text": [
            "At 2019-01-11T02:31:22.317498: once1\n",
            "At 2019-01-11T02:31:24.317498: periodic1\n",
            "At 2019-01-11T02:31:26.317498: periodic1\n",
            "At 2019-01-11T02:31:37.317498: once2\n",
            "At 2019-01-11T02:31:37.317498: periodic2\n",
            "At 2019-01-11T02:31:40.317498: periodic2\n",
            "At 2019-01-11T02:31:43.317498: periodic2\n",
            "At 2019-01-11T02:31:46.317498: periodic2\n",
            "At 2019-01-11T02:31:49.317498: periodic2\n",
            "At 2019-01-11T02:31:52.317498: periodic2\n",
            "At 2019-01-11T02:31:55.317498: periodic2\n",
            "At 2019-01-11T02:31:58.317498: periodic2\n",
            "At 2019-01-11T02:32:01.317498: periodic2\n",
            "At 2019-01-11T02:32:04.317498: periodic2\n",
            "At 2019-01-11T02:32:07.317498: periodic2\n",
            "At 2019-01-11T02:32:10.317498: periodic2\n",
            "At 2019-01-11T02:32:13.317498: periodic2\n",
            "At 2019-01-11T02:32:16.317498: periodic2\n",
            "At 2019-01-11T02:32:19.317498: periodic2\n",
            "At 2019-01-11T02:32:22.317498: periodic2\n",
            "[Event periodic2 of type <class '__main__.PeriodicEvent'> will occurr at 2019-01-11T02:32:25.317498]\n"
          ],
          "name": "stdout"
        }
      ]
    },
    {
      "metadata": {
        "id": "GhXCeYkojMl9",
        "colab_type": "text"
      },
      "cell_type": "markdown",
      "source": [
        "*That's All, Folks!*"
      ]
    }
  ]
}